{
 "cells": [
  {
   "cell_type": "code",
   "execution_count": 1,
   "metadata": {
    "colab": {
     "base_uri": "https://localhost:8080/",
     "height": 240
    },
    "id": "0rAa5Um2GL96",
    "outputId": "88a976c9-4cb5-4aa4-95af-13f934e18be7"
   },
   "outputs": [],
   "source": [
    "from sklearn.feature_extraction.text import CountVectorizer\n",
    "from sklearn.linear_model import LogisticRegression\n",
    "from sklearn.pipeline import make_pipeline\n",
    "from sklearn.metrics import classification_report, precision_recall_curve, PrecisionRecallDisplay\n",
    "from pytorch_pretrained_bert import BertTokenizer\n",
    "from tensorflow.keras.preprocessing.sequence import pad_sequences\n",
    "from pytorch_pretrained_bert import BertModel\n",
    "from torch import nn\n",
    "import torch\n",
    "from torch.utils.data import TensorDataset, DataLoader, RandomSampler, SequentialSampler\n",
    "from torch.optim import Adam\n",
    "from torch.nn.utils import clip_grad_norm_\n",
    "from IPython.display import clear_output\n",
    "from sklearn.linear_model import LinearRegression\n",
    "import pandas as pd\n",
    "import numpy as np\n",
    "from matplotlib import pyplot as plt\n",
    "from sklearn.model_selection import train_test_split\n",
    "import tensorflow as tf"
   ]
  },
  {
   "cell_type": "code",
   "execution_count": 2,
   "metadata": {
    "id": "ILZ-yuIqGL97",
    "outputId": "dd001a93-300d-4d61-9325-05f4dd5f3e0b"
   },
   "outputs": [
    {
     "name": "stdout",
     "output_type": "stream",
     "text": [
      "(787, 2)\n"
     ]
    },
    {
     "data": {
      "text/html": [
       "<div>\n",
       "<style scoped>\n",
       "    .dataframe tbody tr th:only-of-type {\n",
       "        vertical-align: middle;\n",
       "    }\n",
       "\n",
       "    .dataframe tbody tr th {\n",
       "        vertical-align: top;\n",
       "    }\n",
       "\n",
       "    .dataframe thead th {\n",
       "        text-align: right;\n",
       "    }\n",
       "</style>\n",
       "<table border=\"1\" class=\"dataframe\">\n",
       "  <thead>\n",
       "    <tr style=\"text-align: right;\">\n",
       "      <th></th>\n",
       "      <th>text</th>\n",
       "      <th>label</th>\n",
       "    </tr>\n",
       "  </thead>\n",
       "  <tbody>\n",
       "    <tr>\n",
       "      <th>0</th>\n",
       "      <td>You will work closely with our product, engine...</td>\n",
       "      <td>1</td>\n",
       "    </tr>\n",
       "    <tr>\n",
       "      <th>1</th>\n",
       "      <td>We're building and growing which means you'll ...</td>\n",
       "      <td>0</td>\n",
       "    </tr>\n",
       "    <tr>\n",
       "      <th>2</th>\n",
       "      <td>Leveraging our large amount of structured and ...</td>\n",
       "      <td>0</td>\n",
       "    </tr>\n",
       "    <tr>\n",
       "      <th>3</th>\n",
       "      <td>Experience mentoring and building a technical ...</td>\n",
       "      <td>0</td>\n",
       "    </tr>\n",
       "    <tr>\n",
       "      <th>4</th>\n",
       "      <td>MSc (PhD preferred) in hard sciences or comput...</td>\n",
       "      <td>0</td>\n",
       "    </tr>\n",
       "  </tbody>\n",
       "</table>\n",
       "</div>"
      ],
      "text/plain": [
       "                                                text  label\n",
       "0  You will work closely with our product, engine...      1\n",
       "1  We're building and growing which means you'll ...      0\n",
       "2  Leveraging our large amount of structured and ...      0\n",
       "3  Experience mentoring and building a technical ...      0\n",
       "4  MSc (PhD preferred) in hard sciences or comput...      0"
      ]
     },
     "execution_count": 2,
     "metadata": {},
     "output_type": "execute_result"
    }
   ],
   "source": [
    "df = pd.read_csv('annotation_all.csv')\n",
    "df = df.iloc[:,:2]\n",
    "#df_valid = pd.read_csv('valid.csv')\n",
    "df.columns = ['text', 'label']\n",
    "#df_valid.columns = ['text', 'label']\n",
    "#df.dropna()\n",
    "\n",
    "print(df.shape)\n",
    "df.head(5)"
   ]
  },
  {
   "cell_type": "code",
   "execution_count": 3,
   "metadata": {
    "id": "D7qXaHiKGL97",
    "outputId": "bb9865d9-74b7-4091-ebd6-19d24ed29d87"
   },
   "outputs": [
    {
     "name": "stdout",
     "output_type": "stream",
     "text": [
      "0    545\n",
      "1    242\n",
      "Name: label, dtype: int64\n"
     ]
    },
    {
     "data": {
      "text/plain": [
       "Text(0.5, 1.0, 'Distribution of Labels')"
      ]
     },
     "execution_count": 3,
     "metadata": {},
     "output_type": "execute_result"
    },
    {
     "data": {
      "image/png": "[encoded data removed]",
      "text/plain": [
       "<Figure size 432x288 with 1 Axes>"
      ]
     },
     "metadata": {
      "needs_background": "light"
     },
     "output_type": "display_data"
    }
   ],
   "source": [
    "print(df['label'].value_counts())\n",
    "df['label'].value_counts().plot.bar()\n",
    "#plt.yscale('log');\n",
    "plt.title('Distribution of Labels')"
   ]
  },
  {
   "cell_type": "code",
   "execution_count": 4,
   "metadata": {},
   "outputs": [
    {
     "name": "stdout",
     "output_type": "stream",
     "text": [
      "training set: 471\n",
      "validation set: 158\n",
      "test set: 158\n"
     ]
    }
   ],
   "source": [
    "#train_df, val_df = train_test_split(df, test_size=0.1)\n",
    "X_train, X_test, y_train, y_test = train_test_split(df['text'], df['label'], test_size=0.2, random_state=1)\n",
    "X_train, X_val, y_train, y_val = train_test_split(X_train, y_train, test_size=0.25, random_state=1) # 0.25 x 0.8 = 0.2\n",
    "\n",
    "print('training set:', len(X_train))\n",
    "print('validation set:', len(X_val))\n",
    "print('test set:',len(X_test))"
   ]
  },
  {
   "cell_type": "code",
   "execution_count": 5,
   "metadata": {},
   "outputs": [
    {
     "name": "stdout",
     "output_type": "stream",
     "text": [
      "0    331\n",
      "1    140\n",
      "Name: label, dtype: int64\n",
      "0    111\n",
      "1     47\n",
      "Name: label, dtype: int64\n",
      "0    103\n",
      "1     55\n",
      "Name: label, dtype: int64\n"
     ]
    }
   ],
   "source": [
    "print(y_train.value_counts())\n",
    "print(y_val.value_counts())\n",
    "print(y_test.value_counts())\n",
    "\n",
    "#plt.yscale('log');"
   ]
  },
  {
   "cell_type": "code",
   "execution_count": 6,
   "metadata": {
    "id": "khjqdd0dGL98",
    "outputId": "325bdb1c-e275-4cd7-9f1e-789404d04b23"
   },
   "outputs": [
    {
     "name": "stdout",
     "output_type": "stream",
     "text": [
      "Average word length of questions in dataset is 18.\n",
      "Max word length of questions in dataset is 86.\n",
      "Average character length of questions in dataset is 121.\n",
      "Min character length of questions in dataset is 1.\n"
     ]
    }
   ],
   "source": [
    "print('Average word length of questions in dataset is {0:.0f}.'.format(np.mean(df['text'].apply(lambda x: len(x.split())))))\n",
    "print('Max word length of questions in dataset is {0:.0f}.'.format(np.max(df['text'].apply(lambda x: len(x.split())))))\n",
    "print('Average character length of questions in dataset is {0:.0f}.'.format(np.mean(df['text'].apply(lambda x: len(x)))))\n",
    "print('Min character length of questions in dataset is {0:.0f}.'.format(np.min(df['text'].apply(lambda x: len(x.split())))))\n"
   ]
  },
  {
   "cell_type": "code",
   "execution_count": 7,
   "metadata": {
    "id": "JaqNWkowGL98",
    "outputId": "fe13d12a-bdab-4ab3-b777-e69a1cb461f2"
   },
   "outputs": [
    {
     "data": {
      "text/plain": [
       "Text(0.5, 1.0, 'Distribution of question text length in words')"
      ]
     },
     "execution_count": 7,
     "metadata": {},
     "output_type": "execute_result"
    },
    {
     "data": {
      "image/png": "[encoded data removed]",
      "text/plain": [
       "<Figure size 432x288 with 1 Axes>"
      ]
     },
     "metadata": {
      "needs_background": "light"
     },
     "output_type": "display_data"
    }
   ],
   "source": [
    "# Analyzing the Distribution of Question Text Length in Words\n",
    "df['text'].apply(lambda x: len(x.split())).plot(kind='hist');\n",
    "#plt.yscale('log');\n",
    "plt.title('Distribution of question text length in words')\n"
   ]
  },
  {
   "attachments": {},
   "cell_type": "markdown",
   "metadata": {
    "id": "2g82B-Z7GL-C"
   },
   "source": [
    "# Logistic regression & BERT"
   ]
  },
  {
   "cell_type": "code",
   "execution_count": null,
   "metadata": {
    "colab": {
     "base_uri": "https://localhost:8080/"
    },
    "id": "nSlaFzhfHERI",
    "outputId": "12cc7880-2a14-4365-e06c-9f5d7fb825dc"
   },
   "outputs": [],
   "source": [
    "# If you have your folder of data on your Google drive account, you can connect that here\n",
    "from google.colab import drive\n",
    "drive.mount('/content/drive')"
   ]
  },
  {
   "cell_type": "code",
   "execution_count": null,
   "metadata": {
    "id": "XBObCReoHHz9"
   },
   "outputs": [],
   "source": [
    "# Change this to the directory with your data\n",
    "directory=\"/content/drive/MyDrive/NLP/age_annotation\""
   ]
  },
  {
   "cell_type": "code",
   "execution_count": 9,
   "metadata": {
    "colab": {
     "base_uri": "https://localhost:8080/"
    },
    "id": "acAQXfCpHPI8",
    "outputId": "4675a58c-e3fb-4652-ea21-45eb3dc490c9"
   },
   "outputs": [
    {
     "name": "stdout",
     "output_type": "stream",
     "text": [
      "Running on cpu\n"
     ]
    }
   ],
   "source": [
    "device = torch.device(\"cuda\" if torch.cuda.is_available() else \"cpu\")\n",
    "print(\"Running on {}\".format(device))"
   ]
  },
  {
   "cell_type": "code",
   "execution_count": 11,
   "metadata": {
    "colab": {
     "base_uri": "https://localhost:8080/"
    },
    "id": "H4GRTAdHGL-C",
    "outputId": "bf451013-0524-4f6b-8597-dd7fb0df64d7"
   },
   "outputs": [
    {
     "name": "stdout",
     "output_type": "stream",
     "text": [
      "471 471 158 158 158 158\n"
     ]
    }
   ],
   "source": [
    "# import data\n",
    "df = pd.read_csv('annotation_all.csv')\n",
    "df = df.iloc[:,:2]\n",
    "#df_valid = pd.read_csv('valid.csv')\n",
    "df.columns = ['text', 'label']\n",
    "\n",
    "#split train, test, dev data\n",
    "######################################################\n",
    "\n",
    "#train_df, val_df = train_test_split(df, test_size=0.1)\n",
    "X_train, X_test, y_train, y_test = train_test_split(df['text'], df['label'], test_size=0.2, random_state=1)\n",
    "X_train, X_val, y_train, y_val = train_test_split(X_train, y_train, test_size=0.25, random_state=1) # 0.25 x 0.8 = 0.2\n",
    "\n",
    "print(len(X_train), len(y_train), len(X_val), len(y_val), len(X_test), len(y_test))"
   ]
  },
  {
   "cell_type": "code",
   "execution_count": 12,
   "metadata": {
    "colab": {
     "base_uri": "https://localhost:8080/"
    },
    "id": "9IIojjNCGL-C",
    "outputId": "7e930191-bd39-46e4-a593-ef3ad4802eef"
   },
   "outputs": [],
   "source": [
    "tokenizer = BertTokenizer.from_pretrained('bert-base-uncased', do_lower_case=True)\n",
    "train_tokens = list(map(lambda t: ['[CLS]'] + tokenizer.tokenize(t)[:511], X_train))\n",
    "val_tokens = list(map(lambda t: ['[CLS]'] + tokenizer.tokenize(t)[:511], X_val))\n",
    "test_tokens = list(map(lambda t: ['[CLS]'] + tokenizer.tokenize(t)[:511], X_test))"
   ]
  },
  {
   "cell_type": "code",
   "execution_count": 13,
   "metadata": {
    "colab": {
     "base_uri": "https://localhost:8080/"
    },
    "id": "Lf-ePXzYGL-C",
    "outputId": "3894c0db-1fdf-4712-b831-83c1059cedff"
   },
   "outputs": [
    {
     "name": "stdout",
     "output_type": "stream",
     "text": [
      "(471, 512) (158, 512) (158, 512)\n"
     ]
    }
   ],
   "source": [
    "train_tokens_ids = list(map(tokenizer.convert_tokens_to_ids, train_tokens))\n",
    "val_tokens_ids = list(map(tokenizer.convert_tokens_to_ids, val_tokens))\n",
    "test_tokens_ids = list(map(tokenizer.convert_tokens_to_ids, test_tokens))\n",
    "\n",
    "train_tokens_ids = pad_sequences(train_tokens_ids, maxlen=512, truncating=\"post\", padding=\"post\", dtype=\"int\")\n",
    "val_tokens_ids = pad_sequences(val_tokens_ids, maxlen=512, truncating=\"post\", padding=\"post\", dtype=\"int\")\n",
    "test_tokens_ids = pad_sequences(test_tokens_ids, maxlen=512, truncating=\"post\", padding=\"post\", dtype=\"int\")\n",
    "\n",
    "print(train_tokens_ids.shape, val_tokens_ids.shape, test_tokens_ids.shape)"
   ]
  },
  {
   "cell_type": "code",
   "execution_count": 14,
   "metadata": {
    "colab": {
     "base_uri": "https://localhost:8080/"
    },
    "id": "KNR8kvtfGL-C",
    "outputId": "2db4b26f-71ae-41f1-af96-090ec27727d3"
   },
   "outputs": [
    {
     "data": {
      "text/plain": [
       "((471,), (158,), 0.29723991507430997, 0.2974683544303797)"
      ]
     },
     "execution_count": 14,
     "metadata": {},
     "output_type": "execute_result"
    }
   ],
   "source": [
    "train_y = np.array(y_train) == 1\n",
    "val_y = np.array(y_val) == 1\n",
    "test_y = np.array(y_test) == 1\n",
    "train_y.shape, val_y.shape, np.mean(train_y), np.mean(val_y)"
   ]
  },
  {
   "cell_type": "code",
   "execution_count": 15,
   "metadata": {
    "id": "QUB-srQoGL-C"
   },
   "outputs": [],
   "source": [
    "train_masks = [[float(i > 0) for i in ii] for ii in train_tokens_ids]\n",
    "val_masks = [[float(i > 0) for i in ii] for ii in val_tokens_ids]\n",
    "test_masks = [[float(i > 0) for i in ii] for ii in test_tokens_ids]"
   ]
  },
  {
   "cell_type": "code",
   "execution_count": 16,
   "metadata": {
    "colab": {
     "base_uri": "https://localhost:8080/"
    },
    "id": "9xCV5jOnGL-D",
    "outputId": "bf5d88fa-df4d-4aca-8584-b2a1c47e320b"
   },
   "outputs": [
    {
     "name": "stdout",
     "output_type": "stream",
     "text": [
      "              precision    recall  f1-score   support\n",
      "\n",
      "           0       0.75      0.97      0.84       103\n",
      "           1       0.88      0.38      0.53        55\n",
      "\n",
      "    accuracy                           0.77       158\n",
      "   macro avg       0.81      0.68      0.69       158\n",
      "weighted avg       0.79      0.77      0.74       158\n",
      "\n"
     ]
    }
   ],
   "source": [
    "## Train baseline model and predict\n",
    "######################################################\n",
    "baseline_model = make_pipeline(CountVectorizer(ngram_range=(1,3)), LogisticRegression())\n",
    "baseline_model = baseline_model.fit(X_train, y_train)\n",
    "\n",
    "baseline_predicted = baseline_model.predict(X_test)\n",
    "print(classification_report(y_test, baseline_predicted))"
   ]
  },
  {
   "cell_type": "code",
   "execution_count": 17,
   "metadata": {
    "id": "MlZeUEAOGL-D"
   },
   "outputs": [],
   "source": [
    "#Bert model\n",
    "class BertBinaryClassifier(nn.Module):\n",
    "    def __init__(self, dropout=0.1):\n",
    "        super(BertBinaryClassifier, self).__init__()\n",
    "        self.bert = BertModel.from_pretrained('bert-base-uncased')\n",
    "        self.linear = nn.Linear(768, 1)\n",
    "\n",
    "    \n",
    "    def forward(self, tokens, masks=None):\n",
    "        _, pooled_output = self.bert(tokens, attention_mask=masks, output_all_encoded_layers=False)\n",
    "        # now you can implement any architecture that receives bert sequence output\n",
    "        #pooled_output = \n",
    "        linear_output = self.linear(pooled_output)\n",
    "        return linear_output"
   ]
  },
  {
   "cell_type": "code",
   "execution_count": 18,
   "metadata": {
    "colab": {
     "base_uri": "https://localhost:8080/"
    },
    "id": "rPmAnmhfGL-D",
    "outputId": "c08a9eef-3cb7-4c27-e9e6-65f59c186629"
   },
   "outputs": [],
   "source": [
    "bert_clf = BertBinaryClassifier()\n",
    "#bert_clf = bert_clf.cuda()"
   ]
  },
  {
   "cell_type": "code",
   "execution_count": 19,
   "metadata": {
    "id": "Ihev4tv-GL-D"
   },
   "outputs": [],
   "source": [
    "BATCH_SIZE = 5\n",
    "EPOCHS = 15"
   ]
  },
  {
   "cell_type": "code",
   "execution_count": 20,
   "metadata": {
    "colab": {
     "base_uri": "https://localhost:8080/",
     "height": 35
    },
    "id": "iWn7wn3QGL-D",
    "outputId": "b79c1da5-4c51-4263-ed1c-1169f2e82fbe"
   },
   "outputs": [
    {
     "data": {
      "text/plain": [
       "'0.0M'"
      ]
     },
     "execution_count": 20,
     "metadata": {},
     "output_type": "execute_result"
    }
   ],
   "source": [
    "train_tokens_tensor = torch.tensor(train_tokens_ids)\n",
    "train_y_tensor = torch.tensor(train_y.reshape(-1, 1)).float()\n",
    "\n",
    "val_tokens_tensor = torch.tensor(val_tokens_ids)\n",
    "val_y_tensor = torch.tensor(val_y.reshape(-1, 1)).float()\n",
    "\n",
    "test_tokens_tensor = torch.tensor(test_tokens_ids)\n",
    "test_y_tensor = torch.tensor(test_y.reshape(-1, 1)).float()\n",
    "\n",
    "train_masks_tensor = torch.tensor(train_masks)\n",
    "val_masks_tensor = torch.tensor(val_masks)\n",
    "test_masks_tensor = torch.tensor(test_masks)\n",
    "\n",
    "str(torch.cuda.memory_allocated(device)/1000000 ) + 'M'\n"
   ]
  },
  {
   "cell_type": "code",
   "execution_count": 21,
   "metadata": {
    "id": "QharK4hUGL-D"
   },
   "outputs": [],
   "source": [
    "train_dataset = TensorDataset(train_tokens_tensor, train_masks_tensor, train_y_tensor)\n",
    "train_sampler = RandomSampler(train_dataset)\n",
    "train_dataloader = DataLoader(train_dataset, sampler=train_sampler, batch_size=BATCH_SIZE)\n",
    "\n",
    "val_dataset = TensorDataset(val_tokens_tensor, val_masks_tensor, val_y_tensor)\n",
    "val_sampler = SequentialSampler(val_dataset)\n",
    "val_dataloader = DataLoader(val_dataset, sampler=val_sampler, batch_size=BATCH_SIZE)\n",
    "\n",
    "test_dataset = TensorDataset(test_tokens_tensor, test_masks_tensor, test_y_tensor)\n",
    "test_sampler = SequentialSampler(test_dataset)\n",
    "test_dataloader = DataLoader(test_dataset, sampler=test_sampler, batch_size=BATCH_SIZE)"
   ]
  },
  {
   "cell_type": "code",
   "execution_count": 22,
   "metadata": {
    "id": "nXLeCGzLGL-D"
   },
   "outputs": [],
   "source": [
    "optimizer = Adam(bert_clf.parameters(), lr=3e-6)\n",
    "#loss_func = nn.BCEWithLogitsLoss().cuda()\n",
    "\n",
    "loss_func = nn.BCEWithLogitsLoss().to(device)"
   ]
  },
  {
   "cell_type": "code",
   "execution_count": 26,
   "metadata": {
    "colab": {
     "base_uri": "https://localhost:8080/",
     "height": 425
    },
    "id": "YF5EbcbxrZig",
    "outputId": "5bb49313-5d68-4c0d-9f4c-46d7e4eb88a2"
   },
   "outputs": [
    {
     "name": "stdout",
     "output_type": "stream",
     "text": [
      "Epoch:  50\n",
      "train_loss: 0.0035 val_loss: 1.9211\n"
     ]
    }
   ],
   "source": [
    "from datetime import datetime\n",
    "train_losses = []\n",
    "val_losses = []\n",
    "steps = []\n",
    "step = 0\n",
    "best_loss = float('inf')\n",
    "timestamp = datetime.now().strftime('%Y%m%d_%H%M%S')\n",
    "\n",
    "\n",
    "for epoch_num in range(EPOCHS):\n",
    "    bert_clf.train()\n",
    "    train_loss = 0\n",
    "    for step_num, batch_data in enumerate(train_dataloader):\n",
    "        token_ids, masks, labels = tuple(t.to(device) for t in batch_data)\n",
    "        # Forward Pass\n",
    "        probas = bert_clf(token_ids, masks)\n",
    "        \n",
    "        # Find the Loss\n",
    "        batch_loss = loss_func(probas, labels)\n",
    "\n",
    "        # Calculate Loss\n",
    "        train_loss += batch_loss.item()\n",
    "        \n",
    "        # Clear the gradients\n",
    "        bert_clf.zero_grad()\n",
    "\n",
    "        # Calculate gradients \n",
    "        batch_loss.backward()\n",
    "        \n",
    "        # Update Weights\n",
    "        clip_grad_norm_(parameters=bert_clf.parameters(), max_norm=1.0)\n",
    "        optimizer.step()\n",
    "\n",
    "        clear_output(wait=True)\n",
    "        print('Epoch: ', epoch_num + 1)\n",
    "        print(\"{0}/{1} train_loss: {2} \".format(step_num, len(train_y) / BATCH_SIZE, train_loss / (step_num + 1)))\n",
    "        train_losses.append(batch_loss.item())\n",
    "        steps.append(step)\n",
    "        step += 1\n",
    "\n",
    "    # Evaluation on validation set\n",
    "    bert_clf.eval() # Optional when not using Model Specific layer\n",
    "    val_loss = 0\n",
    "    with torch.no_grad():\n",
    "        for step_num, batch_data in enumerate(val_dataloader):\n",
    "            token_ids, masks, labels = tuple(t.to(device) for t in batch_data)\n",
    "            probas = bert_clf(token_ids, masks)\n",
    "            batch_loss = loss_func(probas, labels)\n",
    "            val_loss += batch_loss.item()\n",
    "\n",
    "    val_loss /= len(val_dataloader)\n",
    "    val_losses.append(val_loss)\n",
    "\n",
    "    if val_loss < best_loss:\n",
    "        best_loss = val_loss\n",
    "        \n",
    "        model_path = 'model_{}_{}.pth'.format(timestamp, epoch_num)\n",
    "        torch.save(bert_clf.state_dict(), model_path)\n",
    "        #model_path = 'model_{}_{}'.format(timestamp, epoch_num)\n",
    "        #torch.save(bert_clf, model_path)\n",
    "    \n",
    "    clear_output(wait=True)\n",
    "    print('Epoch: ', epoch_num + 1)\n",
    "    print(\"train_loss: {0:.4f} val_loss: {1:.4f}\".format(train_loss / len(train_dataloader), val_loss))\n"
   ]
  },
  {
   "cell_type": "code",
   "execution_count": 23,
   "metadata": {},
   "outputs": [
    {
     "name": "stderr",
     "output_type": "stream",
     "text": [
      "[E thread_pool.cpp:113] Exception in thread pool task: mutex lock failed: Invalid argument\n",
      "[E thread_pool.cpp:113] Exception in thread pool task: mutex lock failed: Invalid argument\n",
      "[E thread_pool.cpp:113] Exception in thread pool task: mutex lock failed: Invalid argument\n",
      "[E thread_pool.cpp:113] Exception in thread pool task: mutex lock failed: Invalid argument\n"
     ]
    },
    {
     "ename": "KeyboardInterrupt",
     "evalue": "",
     "output_type": "error",
     "traceback": [
      "\u001b[0;31m---------------------------------------------------------------------------\u001b[0m",
      "\u001b[0;31mKeyboardInterrupt\u001b[0m                         Traceback (most recent call last)",
      "\u001b[1;32m/Users/catherineyu/andrewww/BERT_logistic copy.ipynb Cell 25\u001b[0m in \u001b[0;36m<cell line: 10>\u001b[0;34m()\u001b[0m\n\u001b[1;32m     <a href='vscode-notebook-cell:/Users/catherineyu/andrewww/BERT_logistic%20copy.ipynb#X36sZmlsZQ%3D%3D?line=10'>11</a>\u001b[0m \u001b[39mfor\u001b[39;00m step_num, batch_data \u001b[39min\u001b[39;00m \u001b[39menumerate\u001b[39m(test_dataloader):\n\u001b[1;32m     <a href='vscode-notebook-cell:/Users/catherineyu/andrewww/BERT_logistic%20copy.ipynb#X36sZmlsZQ%3D%3D?line=12'>13</a>\u001b[0m     token_ids, masks, labels \u001b[39m=\u001b[39m \u001b[39mtuple\u001b[39m(t\u001b[39m.\u001b[39mto(mydevice) \u001b[39mfor\u001b[39;00m t \u001b[39min\u001b[39;00m batch_data)\n\u001b[0;32m---> <a href='vscode-notebook-cell:/Users/catherineyu/andrewww/BERT_logistic%20copy.ipynb#X36sZmlsZQ%3D%3D?line=14'>15</a>\u001b[0m     logits \u001b[39m=\u001b[39m model(token_ids, masks)\n\u001b[1;32m     <a href='vscode-notebook-cell:/Users/catherineyu/andrewww/BERT_logistic%20copy.ipynb#X36sZmlsZQ%3D%3D?line=15'>16</a>\u001b[0m     numpy_logits \u001b[39m=\u001b[39m logits\u001b[39m.\u001b[39mcpu()\u001b[39m.\u001b[39mdetach()\u001b[39m.\u001b[39mnumpy()\n\u001b[1;32m     <a href='vscode-notebook-cell:/Users/catherineyu/andrewww/BERT_logistic%20copy.ipynb#X36sZmlsZQ%3D%3D?line=17'>18</a>\u001b[0m     all_logits\u001b[39m.\u001b[39mappend(numpy_logits)\n",
      "File \u001b[0;32m/opt/homebrew/Caskroom/miniforge/base/envs/aml/lib/python3.10/site-packages/torch/nn/modules/module.py:1194\u001b[0m, in \u001b[0;36mModule._call_impl\u001b[0;34m(self, *input, **kwargs)\u001b[0m\n\u001b[1;32m   1190\u001b[0m \u001b[39m# If we don't have any hooks, we want to skip the rest of the logic in\u001b[39;00m\n\u001b[1;32m   1191\u001b[0m \u001b[39m# this function, and just call forward.\u001b[39;00m\n\u001b[1;32m   1192\u001b[0m \u001b[39mif\u001b[39;00m \u001b[39mnot\u001b[39;00m (\u001b[39mself\u001b[39m\u001b[39m.\u001b[39m_backward_hooks \u001b[39mor\u001b[39;00m \u001b[39mself\u001b[39m\u001b[39m.\u001b[39m_forward_hooks \u001b[39mor\u001b[39;00m \u001b[39mself\u001b[39m\u001b[39m.\u001b[39m_forward_pre_hooks \u001b[39mor\u001b[39;00m _global_backward_hooks\n\u001b[1;32m   1193\u001b[0m         \u001b[39mor\u001b[39;00m _global_forward_hooks \u001b[39mor\u001b[39;00m _global_forward_pre_hooks):\n\u001b[0;32m-> 1194\u001b[0m     \u001b[39mreturn\u001b[39;00m forward_call(\u001b[39m*\u001b[39;49m\u001b[39minput\u001b[39;49m, \u001b[39m*\u001b[39;49m\u001b[39m*\u001b[39;49mkwargs)\n\u001b[1;32m   1195\u001b[0m \u001b[39m# Do not call functions when jit is used\u001b[39;00m\n\u001b[1;32m   1196\u001b[0m full_backward_hooks, non_full_backward_hooks \u001b[39m=\u001b[39m [], []\n",
      "\u001b[1;32m/Users/catherineyu/andrewww/BERT_logistic copy.ipynb Cell 25\u001b[0m in \u001b[0;36mBertBinaryClassifier.forward\u001b[0;34m(self, tokens, masks)\u001b[0m\n\u001b[1;32m      <a href='vscode-notebook-cell:/Users/catherineyu/andrewww/BERT_logistic%20copy.ipynb#X36sZmlsZQ%3D%3D?line=8'>9</a>\u001b[0m \u001b[39mdef\u001b[39;00m \u001b[39mforward\u001b[39m(\u001b[39mself\u001b[39m, tokens, masks\u001b[39m=\u001b[39m\u001b[39mNone\u001b[39;00m):\n\u001b[0;32m---> <a href='vscode-notebook-cell:/Users/catherineyu/andrewww/BERT_logistic%20copy.ipynb#X36sZmlsZQ%3D%3D?line=9'>10</a>\u001b[0m     _, pooled_output \u001b[39m=\u001b[39m \u001b[39mself\u001b[39;49m\u001b[39m.\u001b[39;49mbert(tokens, attention_mask\u001b[39m=\u001b[39;49mmasks, output_all_encoded_layers\u001b[39m=\u001b[39;49m\u001b[39mFalse\u001b[39;49;00m)\n\u001b[1;32m     <a href='vscode-notebook-cell:/Users/catherineyu/andrewww/BERT_logistic%20copy.ipynb#X36sZmlsZQ%3D%3D?line=10'>11</a>\u001b[0m     \u001b[39m# now you can implement any architecture that receives bert sequence output\u001b[39;00m\n\u001b[1;32m     <a href='vscode-notebook-cell:/Users/catherineyu/andrewww/BERT_logistic%20copy.ipynb#X36sZmlsZQ%3D%3D?line=11'>12</a>\u001b[0m     \u001b[39m#pooled_output = \u001b[39;00m\n\u001b[1;32m     <a href='vscode-notebook-cell:/Users/catherineyu/andrewww/BERT_logistic%20copy.ipynb#X36sZmlsZQ%3D%3D?line=12'>13</a>\u001b[0m     linear_output \u001b[39m=\u001b[39m \u001b[39mself\u001b[39m\u001b[39m.\u001b[39mlinear(pooled_output)\n",
      "File \u001b[0;32m/opt/homebrew/Caskroom/miniforge/base/envs/aml/lib/python3.10/site-packages/torch/nn/modules/module.py:1194\u001b[0m, in \u001b[0;36mModule._call_impl\u001b[0;34m(self, *input, **kwargs)\u001b[0m\n\u001b[1;32m   1190\u001b[0m \u001b[39m# If we don't have any hooks, we want to skip the rest of the logic in\u001b[39;00m\n\u001b[1;32m   1191\u001b[0m \u001b[39m# this function, and just call forward.\u001b[39;00m\n\u001b[1;32m   1192\u001b[0m \u001b[39mif\u001b[39;00m \u001b[39mnot\u001b[39;00m (\u001b[39mself\u001b[39m\u001b[39m.\u001b[39m_backward_hooks \u001b[39mor\u001b[39;00m \u001b[39mself\u001b[39m\u001b[39m.\u001b[39m_forward_hooks \u001b[39mor\u001b[39;00m \u001b[39mself\u001b[39m\u001b[39m.\u001b[39m_forward_pre_hooks \u001b[39mor\u001b[39;00m _global_backward_hooks\n\u001b[1;32m   1193\u001b[0m         \u001b[39mor\u001b[39;00m _global_forward_hooks \u001b[39mor\u001b[39;00m _global_forward_pre_hooks):\n\u001b[0;32m-> 1194\u001b[0m     \u001b[39mreturn\u001b[39;00m forward_call(\u001b[39m*\u001b[39;49m\u001b[39minput\u001b[39;49m, \u001b[39m*\u001b[39;49m\u001b[39m*\u001b[39;49mkwargs)\n\u001b[1;32m   1195\u001b[0m \u001b[39m# Do not call functions when jit is used\u001b[39;00m\n\u001b[1;32m   1196\u001b[0m full_backward_hooks, non_full_backward_hooks \u001b[39m=\u001b[39m [], []\n",
      "File \u001b[0;32m/opt/homebrew/Caskroom/miniforge/base/envs/aml/lib/python3.10/site-packages/pytorch_pretrained_bert/modeling.py:731\u001b[0m, in \u001b[0;36mBertModel.forward\u001b[0;34m(self, input_ids, token_type_ids, attention_mask, output_all_encoded_layers)\u001b[0m\n\u001b[1;32m    728\u001b[0m extended_attention_mask \u001b[39m=\u001b[39m (\u001b[39m1.0\u001b[39m \u001b[39m-\u001b[39m extended_attention_mask) \u001b[39m*\u001b[39m \u001b[39m-\u001b[39m\u001b[39m10000.0\u001b[39m\n\u001b[1;32m    730\u001b[0m embedding_output \u001b[39m=\u001b[39m \u001b[39mself\u001b[39m\u001b[39m.\u001b[39membeddings(input_ids, token_type_ids)\n\u001b[0;32m--> 731\u001b[0m encoded_layers \u001b[39m=\u001b[39m \u001b[39mself\u001b[39;49m\u001b[39m.\u001b[39;49mencoder(embedding_output,\n\u001b[1;32m    732\u001b[0m                               extended_attention_mask,\n\u001b[1;32m    733\u001b[0m                               output_all_encoded_layers\u001b[39m=\u001b[39;49moutput_all_encoded_layers)\n\u001b[1;32m    734\u001b[0m sequence_output \u001b[39m=\u001b[39m encoded_layers[\u001b[39m-\u001b[39m\u001b[39m1\u001b[39m]\n\u001b[1;32m    735\u001b[0m pooled_output \u001b[39m=\u001b[39m \u001b[39mself\u001b[39m\u001b[39m.\u001b[39mpooler(sequence_output)\n",
      "File \u001b[0;32m/opt/homebrew/Caskroom/miniforge/base/envs/aml/lib/python3.10/site-packages/torch/nn/modules/module.py:1194\u001b[0m, in \u001b[0;36mModule._call_impl\u001b[0;34m(self, *input, **kwargs)\u001b[0m\n\u001b[1;32m   1190\u001b[0m \u001b[39m# If we don't have any hooks, we want to skip the rest of the logic in\u001b[39;00m\n\u001b[1;32m   1191\u001b[0m \u001b[39m# this function, and just call forward.\u001b[39;00m\n\u001b[1;32m   1192\u001b[0m \u001b[39mif\u001b[39;00m \u001b[39mnot\u001b[39;00m (\u001b[39mself\u001b[39m\u001b[39m.\u001b[39m_backward_hooks \u001b[39mor\u001b[39;00m \u001b[39mself\u001b[39m\u001b[39m.\u001b[39m_forward_hooks \u001b[39mor\u001b[39;00m \u001b[39mself\u001b[39m\u001b[39m.\u001b[39m_forward_pre_hooks \u001b[39mor\u001b[39;00m _global_backward_hooks\n\u001b[1;32m   1193\u001b[0m         \u001b[39mor\u001b[39;00m _global_forward_hooks \u001b[39mor\u001b[39;00m _global_forward_pre_hooks):\n\u001b[0;32m-> 1194\u001b[0m     \u001b[39mreturn\u001b[39;00m forward_call(\u001b[39m*\u001b[39;49m\u001b[39minput\u001b[39;49m, \u001b[39m*\u001b[39;49m\u001b[39m*\u001b[39;49mkwargs)\n\u001b[1;32m   1195\u001b[0m \u001b[39m# Do not call functions when jit is used\u001b[39;00m\n\u001b[1;32m   1196\u001b[0m full_backward_hooks, non_full_backward_hooks \u001b[39m=\u001b[39m [], []\n",
      "File \u001b[0;32m/opt/homebrew/Caskroom/miniforge/base/envs/aml/lib/python3.10/site-packages/pytorch_pretrained_bert/modeling.py:406\u001b[0m, in \u001b[0;36mBertEncoder.forward\u001b[0;34m(self, hidden_states, attention_mask, output_all_encoded_layers)\u001b[0m\n\u001b[1;32m    404\u001b[0m all_encoder_layers \u001b[39m=\u001b[39m []\n\u001b[1;32m    405\u001b[0m \u001b[39mfor\u001b[39;00m layer_module \u001b[39min\u001b[39;00m \u001b[39mself\u001b[39m\u001b[39m.\u001b[39mlayer:\n\u001b[0;32m--> 406\u001b[0m     hidden_states \u001b[39m=\u001b[39m layer_module(hidden_states, attention_mask)\n\u001b[1;32m    407\u001b[0m     \u001b[39mif\u001b[39;00m output_all_encoded_layers:\n\u001b[1;32m    408\u001b[0m         all_encoder_layers\u001b[39m.\u001b[39mappend(hidden_states)\n",
      "File \u001b[0;32m/opt/homebrew/Caskroom/miniforge/base/envs/aml/lib/python3.10/site-packages/torch/nn/modules/module.py:1194\u001b[0m, in \u001b[0;36mModule._call_impl\u001b[0;34m(self, *input, **kwargs)\u001b[0m\n\u001b[1;32m   1190\u001b[0m \u001b[39m# If we don't have any hooks, we want to skip the rest of the logic in\u001b[39;00m\n\u001b[1;32m   1191\u001b[0m \u001b[39m# this function, and just call forward.\u001b[39;00m\n\u001b[1;32m   1192\u001b[0m \u001b[39mif\u001b[39;00m \u001b[39mnot\u001b[39;00m (\u001b[39mself\u001b[39m\u001b[39m.\u001b[39m_backward_hooks \u001b[39mor\u001b[39;00m \u001b[39mself\u001b[39m\u001b[39m.\u001b[39m_forward_hooks \u001b[39mor\u001b[39;00m \u001b[39mself\u001b[39m\u001b[39m.\u001b[39m_forward_pre_hooks \u001b[39mor\u001b[39;00m _global_backward_hooks\n\u001b[1;32m   1193\u001b[0m         \u001b[39mor\u001b[39;00m _global_forward_hooks \u001b[39mor\u001b[39;00m _global_forward_pre_hooks):\n\u001b[0;32m-> 1194\u001b[0m     \u001b[39mreturn\u001b[39;00m forward_call(\u001b[39m*\u001b[39;49m\u001b[39minput\u001b[39;49m, \u001b[39m*\u001b[39;49m\u001b[39m*\u001b[39;49mkwargs)\n\u001b[1;32m   1195\u001b[0m \u001b[39m# Do not call functions when jit is used\u001b[39;00m\n\u001b[1;32m   1196\u001b[0m full_backward_hooks, non_full_backward_hooks \u001b[39m=\u001b[39m [], []\n",
      "File \u001b[0;32m/opt/homebrew/Caskroom/miniforge/base/envs/aml/lib/python3.10/site-packages/pytorch_pretrained_bert/modeling.py:392\u001b[0m, in \u001b[0;36mBertLayer.forward\u001b[0;34m(self, hidden_states, attention_mask)\u001b[0m\n\u001b[1;32m    390\u001b[0m \u001b[39mdef\u001b[39;00m \u001b[39mforward\u001b[39m(\u001b[39mself\u001b[39m, hidden_states, attention_mask):\n\u001b[1;32m    391\u001b[0m     attention_output \u001b[39m=\u001b[39m \u001b[39mself\u001b[39m\u001b[39m.\u001b[39mattention(hidden_states, attention_mask)\n\u001b[0;32m--> 392\u001b[0m     intermediate_output \u001b[39m=\u001b[39m \u001b[39mself\u001b[39;49m\u001b[39m.\u001b[39;49mintermediate(attention_output)\n\u001b[1;32m    393\u001b[0m     layer_output \u001b[39m=\u001b[39m \u001b[39mself\u001b[39m\u001b[39m.\u001b[39moutput(intermediate_output, attention_output)\n\u001b[1;32m    394\u001b[0m     \u001b[39mreturn\u001b[39;00m layer_output\n",
      "File \u001b[0;32m/opt/homebrew/Caskroom/miniforge/base/envs/aml/lib/python3.10/site-packages/torch/nn/modules/module.py:1194\u001b[0m, in \u001b[0;36mModule._call_impl\u001b[0;34m(self, *input, **kwargs)\u001b[0m\n\u001b[1;32m   1190\u001b[0m \u001b[39m# If we don't have any hooks, we want to skip the rest of the logic in\u001b[39;00m\n\u001b[1;32m   1191\u001b[0m \u001b[39m# this function, and just call forward.\u001b[39;00m\n\u001b[1;32m   1192\u001b[0m \u001b[39mif\u001b[39;00m \u001b[39mnot\u001b[39;00m (\u001b[39mself\u001b[39m\u001b[39m.\u001b[39m_backward_hooks \u001b[39mor\u001b[39;00m \u001b[39mself\u001b[39m\u001b[39m.\u001b[39m_forward_hooks \u001b[39mor\u001b[39;00m \u001b[39mself\u001b[39m\u001b[39m.\u001b[39m_forward_pre_hooks \u001b[39mor\u001b[39;00m _global_backward_hooks\n\u001b[1;32m   1193\u001b[0m         \u001b[39mor\u001b[39;00m _global_forward_hooks \u001b[39mor\u001b[39;00m _global_forward_pre_hooks):\n\u001b[0;32m-> 1194\u001b[0m     \u001b[39mreturn\u001b[39;00m forward_call(\u001b[39m*\u001b[39;49m\u001b[39minput\u001b[39;49m, \u001b[39m*\u001b[39;49m\u001b[39m*\u001b[39;49mkwargs)\n\u001b[1;32m   1195\u001b[0m \u001b[39m# Do not call functions when jit is used\u001b[39;00m\n\u001b[1;32m   1196\u001b[0m full_backward_hooks, non_full_backward_hooks \u001b[39m=\u001b[39m [], []\n",
      "File \u001b[0;32m/opt/homebrew/Caskroom/miniforge/base/envs/aml/lib/python3.10/site-packages/pytorch_pretrained_bert/modeling.py:365\u001b[0m, in \u001b[0;36mBertIntermediate.forward\u001b[0;34m(self, hidden_states)\u001b[0m\n\u001b[1;32m    363\u001b[0m \u001b[39mdef\u001b[39;00m \u001b[39mforward\u001b[39m(\u001b[39mself\u001b[39m, hidden_states):\n\u001b[1;32m    364\u001b[0m     hidden_states \u001b[39m=\u001b[39m \u001b[39mself\u001b[39m\u001b[39m.\u001b[39mdense(hidden_states)\n\u001b[0;32m--> 365\u001b[0m     hidden_states \u001b[39m=\u001b[39m \u001b[39mself\u001b[39;49m\u001b[39m.\u001b[39;49mintermediate_act_fn(hidden_states)\n\u001b[1;32m    366\u001b[0m     \u001b[39mreturn\u001b[39;00m hidden_states\n",
      "File \u001b[0;32m/opt/homebrew/Caskroom/miniforge/base/envs/aml/lib/python3.10/site-packages/pytorch_pretrained_bert/modeling.py:124\u001b[0m, in \u001b[0;36mgelu\u001b[0;34m(x)\u001b[0m\n\u001b[1;32m    118\u001b[0m \u001b[39mdef\u001b[39;00m \u001b[39mgelu\u001b[39m(x):\n\u001b[1;32m    119\u001b[0m     \u001b[39m\"\"\"Implementation of the gelu activation function.\u001b[39;00m\n\u001b[1;32m    120\u001b[0m \u001b[39m        For information: OpenAI GPT's gelu is slightly different (and gives slightly different results):\u001b[39;00m\n\u001b[1;32m    121\u001b[0m \u001b[39m        0.5 * x * (1 + torch.tanh(math.sqrt(2 / math.pi) * (x + 0.044715 * torch.pow(x, 3))))\u001b[39;00m\n\u001b[1;32m    122\u001b[0m \u001b[39m        Also see https://arxiv.org/abs/1606.08415\u001b[39;00m\n\u001b[1;32m    123\u001b[0m \u001b[39m    \"\"\"\u001b[39;00m\n\u001b[0;32m--> 124\u001b[0m     \u001b[39mreturn\u001b[39;00m x \u001b[39m*\u001b[39m \u001b[39m0.5\u001b[39m \u001b[39m*\u001b[39m (\u001b[39m1.0\u001b[39m \u001b[39m+\u001b[39m torch\u001b[39m.\u001b[39;49merf(x \u001b[39m/\u001b[39;49m math\u001b[39m.\u001b[39;49msqrt(\u001b[39m2.0\u001b[39;49m)))\n",
      "\u001b[0;31mKeyboardInterrupt\u001b[0m: "
     ]
    }
   ],
   "source": [
    "mydevice = torch.device(\"cpu\")\n",
    "PATH = '/Users/catherineyu/andrewww/model_20230508_225640_6.pth'\n",
    "model = BertBinaryClassifier()\n",
    "model.load_state_dict(torch.load(PATH, map_location=mydevice))\n",
    "#model.to(mydevice)\n",
    "\n",
    "model.eval()\n",
    "bert_predicted = []\n",
    "all_logits = []\n",
    "with torch.no_grad():\n",
    "    for step_num, batch_data in enumerate(test_dataloader):\n",
    "\n",
    "        token_ids, masks, labels = tuple(t.to(mydevice) for t in batch_data)\n",
    "\n",
    "        logits = model(token_ids, masks)\n",
    "        numpy_logits = logits.cpu().detach().numpy()\n",
    "\n",
    "        all_logits.append(numpy_logits)\n",
    "\n",
    "test_logits = np.vstack(all_logits)\n"
   ]
  },
  {
   "cell_type": "code",
   "execution_count": 24,
   "metadata": {},
   "outputs": [],
   "source": [
    "# load trained model\n",
    "mydevice = torch.device(\"cpu\")\n",
    "PATH = '/Users/catherineyu/andrewww/model_20230508_223209_4'\n",
    "model = torch.load(PATH, map_location=mydevice)\n",
    "## load model if saved as state_dict\n",
    "#model = BertBinaryClassifier()\n",
    "#model.load_state_dict(torch.load(PATH, map_location=mydevice))\n",
    "model.to(mydevice)\n",
    "\n",
    "model.eval()\n",
    "bert_predicted = []\n",
    "all_logits = []\n",
    "with torch.no_grad():\n",
    "    for step_num, batch_data in enumerate(test_dataloader):\n",
    "\n",
    "        token_ids, masks, labels = tuple(t.to(mydevice) for t in batch_data)\n",
    "\n",
    "        logits = model(token_ids, masks)\n",
    "        numpy_logits = logits.cpu().detach().numpy()\n",
    "\n",
    "        all_logits.append(numpy_logits)\n",
    "\n",
    "test_logits = np.vstack(all_logits)\n"
   ]
  },
  {
   "cell_type": "code",
   "execution_count": 27,
   "metadata": {
    "id": "ApAZlzkAGL-E"
   },
   "outputs": [],
   "source": [
    "def sigmoid(x):                                        \n",
    "    return 1 / (1 + np.exp(-x))\n",
    "\n",
    "\n",
    "bert_clf.eval()\n",
    "bert_predicted = []\n",
    "all_logits = []\n",
    "with torch.no_grad():\n",
    "    for step_num, batch_data in enumerate(test_dataloader):\n",
    "\n",
    "        token_ids, masks, labels = tuple(t.to(device) for t in batch_data)\n",
    "\n",
    "        logits = bert_clf(token_ids, masks)\n",
    "        numpy_logits = logits.cpu().detach().numpy()\n",
    "\n",
    "        all_logits.append(numpy_logits)\n",
    "\n",
    "test_logits = np.vstack(all_logits)\n",
    "        \n",
    "#bert_predicted += list(sigmoid(test_logits[:, 0]>0.5))"
   ]
  },
  {
   "cell_type": "code",
   "execution_count": 25,
   "metadata": {},
   "outputs": [
    {
     "name": "stdout",
     "output_type": "stream",
     "text": [
      "Best Threshold=0.999542, F-Score=0.700\n",
      "My Threshold=0.999943, F-Score=0.674\n"
     ]
    },
    {
     "data": {
      "image/png": "[encoded data removed]",
      "text/plain": [
       "<Figure size 432x288 with 1 Axes>"
      ]
     },
     "metadata": {
      "needs_background": "light"
     },
     "output_type": "display_data"
    }
   ],
   "source": [
    "def sigmoid(x):                                        \n",
    "    return 1 / (1 + np.exp(-x))\n",
    "\n",
    "from sklearn.metrics import precision_recall_curve\n",
    "from numpy import argmax\n",
    "\n",
    "precision, recall, thresholds = precision_recall_curve(y_test, sigmoid(test_logits[:, 0]))\n",
    "\n",
    "# convert to f score\n",
    "fscore = (2 * precision * recall) / (precision + recall)\n",
    "# locate the index of the largest f score\n",
    "ix = argmax(fscore)\n",
    "ip = np.argsort(precision, axis=0)[-7]\n",
    "print('Best Threshold=%f, F-Score=%.3f' % (thresholds[ix], fscore[ix]))\n",
    "print('My Threshold=%f, F-Score=%.3f' % (thresholds[ip], fscore[ip]))\n",
    "\n",
    "# plot the roc curve for the model\n",
    "no_skill = len(y_test[y_test==1]) / len(y_test)\n",
    "plt.plot([0,1], [no_skill,no_skill], linestyle='--', label='No Skill')\n",
    "plt.plot(recall, precision, marker='.', label='Logistic')\n",
    "plt.scatter(recall[ix], precision[ix], marker='o', color='green', label='Best f-1')\n",
    "plt.scatter(recall[ip], precision[ip], marker='o', color='red', label='Best precision')\n",
    "\n",
    "plt.text(0, 0.75, 'Best Threshold=%f, F-Score=%.3f' % (thresholds[ix], fscore[ix]), fontsize = 8, \n",
    "         bbox = dict(facecolor = 'g', edgecolor = 'g', alpha = 0.7, ), color = 'w')\n",
    "\n",
    "plt.text(0.15, 0.97, 'Precision=%.3f, Best Threshold=%f, F-Score=%.3f' % (precision[ip], thresholds[ip], fscore[ip]), fontsize = 8, \n",
    "         bbox = dict(facecolor = 'r', edgecolor = 'r', alpha = 0.7, ), color = 'w')\n",
    "\n",
    "# axis labels\n",
    "plt.xlabel('Recall')\n",
    "plt.ylabel('Precision')\n",
    "plt.legend(loc='lower left')\n",
    "# show the plot\n",
    "plt.show()"
   ]
  },
  {
   "cell_type": "code",
   "execution_count": 26,
   "metadata": {
    "colab": {
     "base_uri": "https://localhost:8080/"
    },
    "id": "3Rhu3PVZGL-E",
    "outputId": "d7eb6073-1177-433c-86ad-b5e163df7d16"
   },
   "outputs": [
    {
     "name": "stdout",
     "output_type": "stream",
     "text": [
      "              precision    recall  f1-score   support\n",
      "\n",
      "           0       0.82      0.90      0.86       103\n",
      "           1       0.77      0.62      0.69        55\n",
      "\n",
      "    accuracy                           0.80       158\n",
      "   macro avg       0.79      0.76      0.77       158\n",
      "weighted avg       0.80      0.80      0.80       158\n",
      "\n"
     ]
    }
   ],
   "source": [
    "print(classification_report(y_test,  sigmoid(test_logits[:, 0]) > 0.999542))"
   ]
  },
  {
   "cell_type": "code",
   "execution_count": 27,
   "metadata": {},
   "outputs": [
    {
     "data": {
      "text/plain": [
       "<AxesSubplot:>"
      ]
     },
     "execution_count": 27,
     "metadata": {},
     "output_type": "execute_result"
    },
    {
     "data": {
      "image/png": "[encoded data removed]",
      "text/plain": [
       "<Figure size 432x288 with 2 Axes>"
      ]
     },
     "metadata": {
      "needs_background": "light"
     },
     "output_type": "display_data"
    }
   ],
   "source": [
    "from sklearn.metrics import confusion_matrix\n",
    "import seaborn as sns\n",
    "cm = confusion_matrix(y_test, sigmoid(test_logits[:, 0]) > 0.999542)\n",
    "group_names = ['True Neg','False Pos','False Neg','True Pos']\n",
    "\n",
    "group_counts = ['{0:0.0f}'.format(value) for value in\n",
    "                cm.flatten()]\n",
    "group_percentages = ['{0:.2%}'.format(value) for value in\n",
    "                     cm.flatten()/np.sum(cm)]\n",
    "labels = [f'{v1}\\n{v2}\\n{v3}' for v1, v2, v3 in\n",
    "          zip(group_names,group_counts,group_percentages)]\n",
    "\n",
    "labels = np.asarray(labels).reshape(2,2)\n",
    "\n",
    "sns.heatmap(cm, annot=labels, fmt='', cmap='Blues')\n"
   ]
  },
  {
   "cell_type": "code",
   "execution_count": 28,
   "metadata": {},
   "outputs": [
    {
     "data": {
      "text/html": [
       "<div>\n",
       "<style scoped>\n",
       "    .dataframe tbody tr th:only-of-type {\n",
       "        vertical-align: middle;\n",
       "    }\n",
       "\n",
       "    .dataframe tbody tr th {\n",
       "        vertical-align: top;\n",
       "    }\n",
       "\n",
       "    .dataframe thead th {\n",
       "        text-align: right;\n",
       "    }\n",
       "</style>\n",
       "<table border=\"1\" class=\"dataframe\">\n",
       "  <thead>\n",
       "    <tr style=\"text-align: right;\">\n",
       "      <th></th>\n",
       "      <th>text</th>\n",
       "      <th>true label</th>\n",
       "      <th>predicted label</th>\n",
       "    </tr>\n",
       "  </thead>\n",
       "  <tbody>\n",
       "    <tr>\n",
       "      <th>766</th>\n",
       "      <td>We’re looking for someone who is not afraid to...</td>\n",
       "      <td>0</td>\n",
       "      <td>0</td>\n",
       "    </tr>\n",
       "    <tr>\n",
       "      <th>101</th>\n",
       "      <td>Assist the Government in applying innovative a...</td>\n",
       "      <td>1</td>\n",
       "      <td>1</td>\n",
       "    </tr>\n",
       "    <tr>\n",
       "      <th>474</th>\n",
       "      <td>Ideal Candidates Will Have: -Multiple years of...</td>\n",
       "      <td>0</td>\n",
       "      <td>0</td>\n",
       "    </tr>\n",
       "    <tr>\n",
       "      <th>262</th>\n",
       "      <td>As a Data Scientist you will be working with t...</td>\n",
       "      <td>0</td>\n",
       "      <td>0</td>\n",
       "    </tr>\n",
       "    <tr>\n",
       "      <th>546</th>\n",
       "      <td>You will team up with business stakeholders to...</td>\n",
       "      <td>1</td>\n",
       "      <td>0</td>\n",
       "    </tr>\n",
       "  </tbody>\n",
       "</table>\n",
       "</div>"
      ],
      "text/plain": [
       "                                                  text true label  \\\n",
       "766  We’re looking for someone who is not afraid to...          0   \n",
       "101  Assist the Government in applying innovative a...          1   \n",
       "474  Ideal Candidates Will Have: -Multiple years of...          0   \n",
       "262  As a Data Scientist you will be working with t...          0   \n",
       "546  You will team up with business stakeholders to...          1   \n",
       "\n",
       "     predicted label  \n",
       "766                0  \n",
       "101                1  \n",
       "474                0  \n",
       "262                0  \n",
       "546                0  "
      ]
     },
     "execution_count": 28,
     "metadata": {},
     "output_type": "execute_result"
    }
   ],
   "source": [
    "predicted_label = sigmoid(test_logits[:, 0]) > 0.999542\n",
    "test_newlabels = pd.DataFrame([X_test, y_test, predicted_label]).transpose()\n",
    "test_newlabels.columns = ['text', 'true label', 'predicted label']\n",
    "test_newlabels['predicted label'] = test_newlabels['predicted label'].apply(lambda x: 1 if x == True else 0)\n",
    "\n",
    "test_newlabels.head()"
   ]
  },
  {
   "cell_type": "code",
   "execution_count": 29,
   "metadata": {},
   "outputs": [
    {
     "name": "stdout",
     "output_type": "stream",
     "text": [
      "1 : Design and build predictive customer behavior models for targeting and personalization\n",
      "2 : The candidate will be responsible for end-to-endmachine learning model design and development. Success inthis role requires a strong foundation in machine learning, coupled with experience in big data and distributed computation.\n",
      "3 : Work with and analyze large amounts of data. Interact with functional experts, at all levels, to understand the data challenges, user needs, and to identify new opportunities.\n",
      "4 : You are passionate about generating hypotheses for business and product problems\n",
      "5 : ARUP proudly hires top talent to create a work environment of diversity, professional growth and continuous development.\n"
     ]
    }
   ],
   "source": [
    "#false positive sentences\n",
    "fp_sentences = test_newlabels.loc[(test_newlabels['true label']==0) & (test_newlabels['predicted label']==1)]['text']\n",
    "n = 1\n",
    "for i in fp_sentences:\n",
    "    print(n,':',i)\n",
    "    n+=1"
   ]
  },
  {
   "cell_type": "code",
   "execution_count": 30,
   "metadata": {},
   "outputs": [
    {
     "name": "stdout",
     "output_type": "stream",
     "text": [
      "1 : You will team up with business stakeholders to prioritize innovation ideas and work with other data scientists to develop and deliver breakthrough solutions\n",
      "2 : The Dataiku Training Specialist must be ambitious, outgoing and tech-savvy, and must be prepared to learn new skills and work with different profiles and experiences in many interesting fields.\n",
      "3 : The ideal candidate will be a quick learner, a self-starter, have good communication and time management skills, and work well in both independently and in a team environment\n",
      "4 : Must also be able to deal with ambiguity and make independent decisions about what data and approach is best for the task at hand.\n",
      "5 : Creative flair and ability to think outside the box\n",
      "6 : Must be flexible and have the ability to handle many projects at one time\n",
      "7 : Curiosity, enthusiasm, positive attitude and passion to build. Willingness to learn and research new concepts.\n",
      "8 : Able to climb and descend stairs\n",
      "9 : Can you quickly understand the funding problems faced by business owners and think on your feet to come up with effective case-specific solutions?\n",
      "10 : Their dynamic and fun environment is a great place to work and realize your potential today!\n",
      "11 : Ability to manage multiple projects and recommend and/or implement effective solutions\n",
      "12 : You would be working with great people in a fast paced, exciting start-up environment dealing with an established platform and backed by one of the world's largest investment groups.\n",
      "13 : Provides an energy level that brings new and exciting ideas to the planning function\n",
      "14 : Ability to work as part of a growing entrepreneurial team with little supervision and enjoy working independently in a fast-paced, dynamic environment\n",
      "15 : You can multitask to juggle competing phone, email and chat conversations while keeping your cool as a cucumber demeanor\n",
      "16 : We expect everyone to be vigilant for emerging problems and innovative solutions.\n",
      "17 : The Medopad team is seeking an energetic and highly motivated software engineer to work on building backend systems.\n",
      "18 : Ability to excel in a fast-paced, multi-tasking, team environment\n",
      "19 : Are you ready to be part of something new and unique? Resideo is building a brand-new ultra-modern software development team in Austin to reinvent the smart home\n",
      "20 : We are looking for “out of the box” thinkers that are challenged by our clients to offer innovative approaches to address new system designs, and/or improve existing processes.\n",
      "21 : The ideal Data Scientist will possess excellent communication skills as well as being extremely technical working writing code, solving complex problems and working in a cutting-edge cloud-based platform.\n",
      "22 : Well organised with the ability to plan and deliver on tight deadlines with exceptional attention to detail\n",
      "23 : You are hungry and enjoy being constantly challenged to learn and do more\n",
      "24 : Creative thinker\n",
      "25 : This is a great opportunity to help shape Amgen's rapidly evolving Data Science capabilities in the golden age of biotechnology and no prior biotechnology experience is required!\n",
      "26 : Confident, energetic self-starter,\n",
      "27 : Often this position may be required to drive hundreds of miles per day or at night.\n",
      "28 : Be a digital native with a keen interest in pop-culture\n",
      "29 : The ideal candidate for this position is the kind of person who is willing to go the extra mile to make sure the job gets done and can meet strict project deadlines.\n",
      "30 : Strong attention to detail and organization\n",
      "31 : Work in a fun, dynamic environment that has innovation at its core\n",
      "32 : Energetic and a great team player\n",
      "33 : The ideal candidate will not only possess well developed administration skills but also bring ‘added value’ to the team with talents in either graphic design, training, marketing or have a tech savvy background\n",
      "34 : Ability to work in a highly dynamic, multicultural and demanding team\n",
      "35 : An absolute winning mentality\n",
      "36 : You will need to work effectively as a member of an operating team, which means good communication and interpersonal skills are essential.\n",
      "37 : We are looking for individuals who want to contribute to ARUP's culture of accountability, integrity, service, and excellence. Consider joining our dynamic team.\n",
      "38 : Ability to test ideas and adapt methods quickly end to end from data extraction to implementation\n",
      "39 : High energy / fast paced environment\n",
      "40 : Complete Intelligence is looking to hire a highly creative Data Scientist to address data analytics challenges in our organization, to collect large volumes of data from varying sources, clean and interpret data, create solutions to overcome challenges and work with management and staff to implement solutions\n",
      "41 : Adaptable - ability to know when and how to act quickly to proactively solve problems\n",
      "42 : Creative and energetic personality\n",
      "43 : With great freedom to innovate, you will play a leading role in world-class research that will drive the future of Vanguard’s artificial intelligence and machine learning\n",
      "44 : The ideal candidate will drive positive change that will impact every person within the organization, and will be a data storyteller with a technical background that can produce a sense of excitement and engagement from leadership regarding the insights being provided by analytics.\n",
      "45 : As a Graduate, you will have the opportunity to not only grow and develop in your chosen field, but to also shape the course of our business and industry. \n",
      "46 : The Data Scientist will need to be innovative and entrepreneurial to work within a \"start-up like\" environment.\n",
      "47 : We refuse to think inside the box.\n",
      "48 : Have the ability to thrive in an energetic, fast pace, high growth, entrepreneurial environment with minimal supervision.\n",
      "49 : We look for people who have bold new ideas, courage and a pioneering spirit to join forces to invent the future.\n",
      "50 : We are looking for a whip-smart, agile, Financial Accountant to join our growing finance team at Shapeways.\n",
      "51 : 5-7 Years’ work experience overall and is eager to do things differently and look for new ways to do things.\n",
      "52 : An ambitious worker who can handle the fast-paced and demanding culture of a high-growth startup\n",
      "53 : You will work closely with our product, engineering, and editorial teams to deliver the highest-quality content quickly and at scale.\n",
      "54 : You thrive in a collaborative and dynamic environment\n"
     ]
    }
   ],
   "source": [
    "#false negative sentences\n",
    "fn_sentences = test_newlabels.loc[(test_newlabels['true label']==1) & (test_newlabels['predicted label']==0)]['text']\n",
    "n = 1\n",
    "for i in fn_sentences:\n",
    "    print(n,':',i)\n",
    "    n+=1"
   ]
  },
  {
   "cell_type": "markdown",
   "metadata": {
    "id": "jow4RPNcGL-E"
   },
   "source": [
    "# distilling bert\n"
   ]
  },
  {
   "cell_type": "code",
   "execution_count": 31,
   "metadata": {
    "id": "HXQHM8BOGL-E"
   },
   "outputs": [],
   "source": [
    "#distilling bert\n",
    "train_dataset_for_distill = TensorDataset(train_tokens_tensor, train_masks_tensor, train_y_tensor)\n",
    "train_dataloader_for_distill = DataLoader(train_dataset, batch_size=BATCH_SIZE)"
   ]
  },
  {
   "cell_type": "code",
   "execution_count": 33,
   "metadata": {
    "id": "LOkpJNUpGL-E"
   },
   "outputs": [],
   "source": [
    "model.eval()\n",
    "train_logits = []\n",
    "with torch.no_grad():\n",
    "    for step_num, batch_data in enumerate(train_dataloader_for_distill):\n",
    "\n",
    "        token_ids, masks, labels = tuple(t.to(device) for t in batch_data)\n",
    "\n",
    "        logits = model(token_ids, masks)\n",
    "        numpy_logits = logits.cpu().detach().numpy()\n",
    "        \n",
    "        train_logits.append(numpy_logits)\n",
    "train_logits = np.vstack(train_logits)"
   ]
  },
  {
   "cell_type": "code",
   "execution_count": 34,
   "metadata": {
    "colab": {
     "base_uri": "https://localhost:8080/"
    },
    "id": "aeIexgo9GL-E",
    "outputId": "9de610ab-de34-49d6-c5f2-8e1f59cd94f5"
   },
   "outputs": [
    {
     "name": "stdout",
     "output_type": "stream",
     "text": [
      "              precision    recall  f1-score   support\n",
      "\n",
      "       False       1.00      0.99      1.00       331\n",
      "        True       0.99      1.00      0.99       140\n",
      "\n",
      "    accuracy                           1.00       471\n",
      "   macro avg       0.99      1.00      0.99       471\n",
      "weighted avg       1.00      1.00      1.00       471\n",
      "\n"
     ]
    }
   ],
   "source": [
    "print(classification_report(train_y, sigmoid(train_logits[:, 0]) > 0.5))"
   ]
  },
  {
   "cell_type": "code",
   "execution_count": 38,
   "metadata": {
    "colab": {
     "base_uri": "https://localhost:8080/"
    },
    "id": "lF6di69GGL-E",
    "outputId": "ed284011-34bb-4873-edb1-1ff274524505"
   },
   "outputs": [
    {
     "name": "stdout",
     "output_type": "stream",
     "text": [
      "              precision    recall  f1-score   support\n",
      "\n",
      "           0       0.74      0.95      0.83       103\n",
      "           1       0.81      0.38      0.52        55\n",
      "\n",
      "    accuracy                           0.75       158\n",
      "   macro avg       0.78      0.67      0.68       158\n",
      "weighted avg       0.77      0.75      0.72       158\n",
      "\n"
     ]
    }
   ],
   "source": [
    "distilled_model = make_pipeline(CountVectorizer(ngram_range=(1,3)), LinearRegression()).fit(X_train, train_logits)\n",
    "\n",
    "# predict probabilities\n",
    "#lr_probs = distilled_model.predict_proba(test_texts)\n",
    "# keep probabilities for the positive outcome only\n",
    "#lr_probs = lr_probs[:, 1]\n",
    "\n",
    "# predict class values\n",
    "distilled_predicted_logits = distilled_model.predict(X_test)\n",
    "#lr_precision, lr_recall, _ = precision_recall_curve(test_y, lr_probs)\n",
    "#lr_f1, lr_auc = f1_score(test_y, distilled_predicted_logits), auc(lr_recall, lr_precision)\n",
    "\n",
    "print(classification_report(y_test, sigmoid(distilled_predicted_logits[:, 0]) > 0.5))"
   ]
  },
  {
   "cell_type": "code",
   "execution_count": 39,
   "metadata": {
    "colab": {
     "base_uri": "https://localhost:8080/",
     "height": 521
    },
    "id": "N-PoU3HHGL-E",
    "outputId": "b1c5fbde-cc6c-491e-fa17-ae458bcb56d6"
   },
   "outputs": [
    {
     "data": {
      "text/plain": [
       "(array([328.,   1.,   0.,   0.,   0.,   2.,   1.,   0.,   0., 139.]),\n",
       " array([-10.605576  ,  -8.523482  ,  -6.441389  ,  -4.3592954 ,\n",
       "         -2.2772021 ,  -0.19510889,   1.8869845 ,   3.9690778 ,\n",
       "          6.0511713 ,   8.133265  ,  10.215358  ], dtype=float32),\n",
       " <BarContainer object of 10 artists>)"
      ]
     },
     "execution_count": 39,
     "metadata": {},
     "output_type": "execute_result"
    },
    {
     "data": {
      "image/png": "[encoded data removed]",
      "text/plain": [
       "<Figure size 432x288 with 1 Axes>"
      ]
     },
     "metadata": {
      "needs_background": "light"
     },
     "output_type": "display_data"
    }
   ],
   "source": [
    "plt.hist(train_logits)"
   ]
  },
  {
   "cell_type": "markdown",
   "metadata": {
    "id": "Qo1m4fiIGL-E"
   },
   "source": [
    "# label new data using the trained model"
   ]
  },
  {
   "cell_type": "code",
   "execution_count": 42,
   "metadata": {
    "colab": {
     "base_uri": "https://localhost:8080/"
    },
    "id": "1EDhk2DkGL-E",
    "outputId": "c136da02-d65e-4609-c869-967507e8a12f"
   },
   "outputs": [
    {
     "data": {
      "text/plain": [
       "['The Customer Service Associate will be based in Seattle, WA.',\n",
       " 'The right candidate will be an integral part of our talented team, supporting our continued growth.Responsibilities include, but are not limited to:Prepare materials for mailing including: applying postage, preparing items for shipment or collection, distributing items as needed, ensuring items are properly labeled and documenting data according to management guidelines.Perform start-up and operations of postage equipment.Ensure that all mail and packages are properly labeled for mailing, with correct postage utilizing automatic postage meter machine.Sort, deliver and pick-up mail and packages utilizing mail cart according to established time frames and service standards.Assist with loading and unloading of deliveries as needed.Maintain shipping and receiving area as required.Sort and process inbound intercompany mail.Scan and input inbound accountable boxes and packages including certified, registered, return receipt, Federal Express and UPS for delivery to customers.Verify and correct mail using available tools.',\n",
       " 'Ability to lift heavy boxes and operate electronic dolly if required at site.Maintain all logs and reporting documentation as required.Keep manager advised of associate or employee moves or requests, and other related matters.Coordinate special messenger services, air freight, etc.Assist with security and monthly measurement reports as required.Cross-Train in other service areas.Perform other tasks as assigned.',\n",
       " 'To strengthen its new executive team, Axonix is seeking a Global Marketing Manager to drive all of the company’s branding and lead generation strategies globally.As Axonix is a new company, the Marketing Manager will have the opportunity to define, create and execute the strategies that will establish Axonix across our target audiences of mobile publishers, app developers, demand partners, journalists &amp; bloggers, and potential employees.',\n",
       " \"We're seeking a hands-on executer, who can span both planning and delivery, working with our incumbent agencies whilst also owning in-house projects.\"]"
      ]
     },
     "execution_count": 42,
     "metadata": {},
     "output_type": "execute_result"
    }
   ],
   "source": [
    "#label unlabeled data\n",
    "unlabeled_texts = []\n",
    "with open('unlabeled_clean.txt') as f:\n",
    "    for line in f:\n",
    "        unlabeled_texts.append(line.strip())\n",
    "\n",
    "unlabeled_texts[:5]"
   ]
  },
  {
   "cell_type": "code",
   "execution_count": 43,
   "metadata": {
    "id": "m5pToeS1GL-F"
   },
   "outputs": [],
   "source": [
    "# use distilled model to label unlabeled text data\n",
    "unlabeled_logits = distilled_model.predict(unlabeled_texts)\n",
    "prediction = tf.round(tf.nn.sigmoid(unlabeled_logits)) \n",
    "#predicted_label = sigmoid(distilled_predicted_logits[:, 0]) > 0.5"
   ]
  },
  {
   "cell_type": "code",
   "execution_count": 44,
   "metadata": {
    "colab": {
     "base_uri": "https://localhost:8080/",
     "height": 206
    },
    "id": "z2sBc87YGL-F",
    "outputId": "f4edeba5-c8d7-4c9b-a131-9e18b0539b41"
   },
   "outputs": [
    {
     "data": {
      "text/html": [
       "<div>\n",
       "<style scoped>\n",
       "    .dataframe tbody tr th:only-of-type {\n",
       "        vertical-align: middle;\n",
       "    }\n",
       "\n",
       "    .dataframe tbody tr th {\n",
       "        vertical-align: top;\n",
       "    }\n",
       "\n",
       "    .dataframe thead th {\n",
       "        text-align: right;\n",
       "    }\n",
       "</style>\n",
       "<table border=\"1\" class=\"dataframe\">\n",
       "  <thead>\n",
       "    <tr style=\"text-align: right;\">\n",
       "      <th></th>\n",
       "      <th>text</th>\n",
       "      <th>label</th>\n",
       "    </tr>\n",
       "  </thead>\n",
       "  <tbody>\n",
       "    <tr>\n",
       "      <th>0</th>\n",
       "      <td>The Customer Service Associate will be based i...</td>\n",
       "      <td>0.0</td>\n",
       "    </tr>\n",
       "    <tr>\n",
       "      <th>1</th>\n",
       "      <td>The right candidate will be an integral part o...</td>\n",
       "      <td>0.0</td>\n",
       "    </tr>\n",
       "    <tr>\n",
       "      <th>2</th>\n",
       "      <td>Ability to lift heavy boxes and operate electr...</td>\n",
       "      <td>0.0</td>\n",
       "    </tr>\n",
       "    <tr>\n",
       "      <th>3</th>\n",
       "      <td>To strengthen its new executive team, Axonix i...</td>\n",
       "      <td>0.0</td>\n",
       "    </tr>\n",
       "    <tr>\n",
       "      <th>4</th>\n",
       "      <td>We're seeking a hands-on executer, who can spa...</td>\n",
       "      <td>0.0</td>\n",
       "    </tr>\n",
       "  </tbody>\n",
       "</table>\n",
       "</div>"
      ],
      "text/plain": [
       "                                                text label\n",
       "0  The Customer Service Associate will be based i...   0.0\n",
       "1  The right candidate will be an integral part o...   0.0\n",
       "2  Ability to lift heavy boxes and operate electr...   0.0\n",
       "3  To strengthen its new executive team, Axonix i...   0.0\n",
       "4  We're seeking a hands-on executer, who can spa...   0.0"
      ]
     },
     "execution_count": 44,
     "metadata": {},
     "output_type": "execute_result"
    }
   ],
   "source": [
    "predicted_label = prediction.numpy().flatten()\n",
    "unlabeled_text_labeles = pd.DataFrame([unlabeled_texts, predicted_label]).transpose()\n",
    "unlabeled_text_labeles.columns = ['text', 'label']\n",
    "unlabeled_text_labeles.head()\n"
   ]
  },
  {
   "cell_type": "code",
   "execution_count": 45,
   "metadata": {
    "colab": {
     "base_uri": "https://localhost:8080/"
    },
    "id": "jkqY9LOGGL-F",
    "outputId": "e27adbc7-1e28-4369-b3ec-c642fdf823c7"
   },
   "outputs": [
    {
     "name": "stdout",
     "output_type": "stream",
     "text": [
      "1 : Join a fast growing technology education movement!Apps for Good (#URL_937118d268463f038aabd860063eb978f7ad6c0a78ed8e595e39bfa1de380e90#) is an award-winning technology education movement where young people in schools learn to create apps that solve problems they care about and change their world.\n",
      "2 : We are looking for a specialized game developer to turn a game idea into code on a fast moving environment.\n",
      "3 : •5+ years of experience as a Teradata DBA•7-10 years of overall experience as a developer &amp; DBA role in IT field.\n",
      "4 : In the past three years, online marketing has evolved from simple email newsletters and campaign websites, to high performance, high availability web applications, mobile apps, Facebook integrations and digital out of home experiences, with creatively designed and highly interactive user interfaces.\n",
      "5 : Food52, a fast-growing, James Beard Award-winning online food community, recipe hub, and home and kitchen shop, is currently looking for part-time, seasonal retail sales associates to help run its Holiday Market in New York City.\n",
      "6 : International Services Inc. (G&amp;H) is looking for a qualified, self-motivated Technology Specialist with expertise in systems integration to join an innovative team responsible for providing technical services in support of information management systems.G&amp;H is a small consulting company founded in 1997, focused in the Emergency Management industry.\n",
      "7 : We are looking for someone who's interested in digital media and wants to learn things from the ground up.\n",
      "8 : In subsurface software, even basic data integration can be highly complex and challenging, but in this environment we must also figure out how to provide the kind of fast, parallel access HPC applications require.\n",
      "9 : The desired candidate will be energetic, comfortable with technology (obviously), and enjoy working in a fast-pace, dynamic environment.\n",
      "10 : The role requires architecting, optimising, managing and automating our cloud presence, managing mundane daily tasks like emails, making sure all packages are up to date, implement PCI compliance, roll out cutting edge technologies to assist our software development team.The successful candidate will love working with people, strive for success and have a high level of attention to detail.\n",
      "11 : Most of all, we are looking for creative, strategic minds to join the team and grow with us.The ideal candidate for an Account Manager will have 3-5 years of agency experience and the leadership skills to manage various client accounts.\n",
      "12 : DICE is looking for someone who can lead the music team in Europe.\n",
      "13 : The successful candidate should be interested in technology and demonstrate a keen interest in programming.You will be encouraged to expand on ideas, play around with new technologies, develop yourself as a programmer and develop fun applications that will be used by many.\n",
      "14 : Keycafe is looking for an exceptional, highly motivated full-time team member to help us launch and manage your city.\n",
      "15 : As Recruiting Manager, you will find and attract top talent for Via, introducing candidates to our ground-breaking company and guiding them through the hiring process.Responsibilities:Source candidates from top talent pools using a variety of innovative strategiesBe an expert in Via’s talent needs, intuitively understanding where any given candidate may fit bestKeep candidates up-to-date and informed throughout the hiring processUse analytics to inform recruiting goals, methods, and protocolDevelop and continuously improve Via’s internal hiring process, from job posting through offer letterYou:Reliable, independent, and able to juggle multiple tasks effectivelyA savvy, tactful, and graceful communicator – you intuitively find the right tone in every situationExceptionally organized, never letting anything fall through the cracksKnowledgeable of start-up culture and excited by quick growthHave a bachelors degree from a top-tier universityHave significant experience in a similar role, ideally at a start-up*****Via offers highly competitive compensation packages and benefits, including equity, health insurance, a flexible vacation policy, and relocation assistance.To apply, please send a copy of your resume and cover letter to #EMAIL_a75d7a5293c9cedac048ed456b281bb1d324c6217a8eb4fa1b4e994b2b90ca41#.Via is an equal opportunity employer.\n",
      "16 : Ability to work independently and sharp attention to detail are critical for this position.\n",
      "17 : Tel Tech Networks Inc.is currentlyrecruiting Fiber Technicians with 5+ years experience installinglow voltage systems who want to be a part of a dynamic team in a fast paced environment.\n",
      "18 : The successful job seeker must be able to demonstrate the following qualifications:Minimum of 1 year customer service related experience requiredExperience in Mail Services preferredLifting up to 70 pounds with or without accommodationsStanding for long periods of time &amp; significant walking, with or without accommodationsWillingness to travel to multiple sites within the Seattle areaAbility to work flexible schedule to meet changing needs of the accountExcellent communication skills both verbal and writtenAbility to effectively work individually or in a team environmentCompetency in performing multiple functional tasksAbility to meet employer's attendance policyMust have the ability to bend, reach, squat, push/pull a mail cart with up to a 400 lbs capacityMust possess solid PC skills in navigating Microsoft Outlook, WORD, EXCEL, and ACCESSWillingness to submit to a pre-employment drug screening and criminal background checkHigh school diploma or equivalent (GED) required\n",
      "19 : Experience in the online or mobile advertising industries an advantage but not essential.Proven expertise in website development, SEO and web analyticsProven expertise in SEM, Social Media and Email marketingExcellent communication skills – written, verbal and interpersonalOutgoing personality twinned with a genuine creative and entrepreneurial streakMeticulous eye for detail, high standards and desire to deliver unquestionably good workSelf-starter, with the ability to prioritise, multi-task and deliver under pressure within a fast-paced start-up environmentProven high achiever, with a passion for personal developmentLanguages – Fluency in English essential; business-level Spanish or Portuguese an advantage but not essential\n",
      "20 : Requirements:Apps for Good is looking for people who are inspired and inspiring.\n",
      "21 : A very good undergraduate or postgraduate degree (preferred in engineering, natural science or technology-related subject)Proven interest in entrepreneurship, lean start-up thinking and agile developmentInterest in education, how educators and students learn bestExcellent time management and expectation-setting skillsGreat written communication skills with core audience in mindAbility to proofread with high attention to detailProblem-solver and fast learner who relishes the chance to work independently to achieve results, but also as part of a teamExcited to learn new things and hard-workingIdeally: Hands-on experience of with at least one programming languageMinimum: keen interest to become programming literate fastYou will need the ability to operate in a fast-moving environment, be extremely reliable when working on a broad range of tasks and work independently.\n",
      "22 : The ability to pick things up quickly, a desire to learn and the ability to follow processes and procedures are required.\n",
      "23 : Good attention to detail and the ability to speak with people on the telephone are vital.\n",
      "24 : It’s challenging and physically imposingAmbitious to become successful and secure a career within a fast growing organisationActive interest in startup technology companies and prepared to read material that is shared to the group to grow your understandingCompetitive to win increased sales and deliver a higher standard of work against competition from territories such as IndiaCan think for yourself, solve problems and work ‘smart’Familiar with most western Internet services and mobile apps, you own a ‘smart phone’ or ‘tablet’ deviceFast at communicating online from a keyboardA reliable and relatively speedy Internet connection with a decent standard laptop/desktop computerDetermined to learn fast and become a customer championDemonstrate patience with difficult customers and can lead them as a customer coachFamiliarisation with cloud services, such as #URL_1a87d9677b5bbbb958ddf13871e43b6eec2543a07fa60389767425c0abac975f#, #URL_92c3abda7beb2f01635848b26fbd6b87e45b57d8bbd6b1feeafe4f73b1ad782e# and can easily adapt to customer service software such as #URL_2299a374cc7bfefabf893c2885574b6cb5272511132f1b87d80a110be6bc6726# and #URL_46a496f757a36e42e06d43cdab7d71acee1676a20f2c126250348ef7c8ca2976# ; Must be computer and mobile literate with a good understanding of how to use internet servicesA 3 year BA, Masters degree or MBA is preferable but not essentialTOEFL pass certificate is preferable but not essential\n",
      "25 : Required Qualifications:Minimum of 1 year customer service related experience preferred1 year of experience performing tasks supporting document scanning and imaging (or related applications, such asmicrofilming or high volume reprographics)Keyboarding skills requiredAbility to communicate effectively both in verbal and written formAbility to effectively work individually or in a team environmentAbility to handle multiple projects simultaneouslyAbility to adapt to change in a fast-growing production environmentStrong organizational and administrative skillsDemonstrated ability to show initiative and accept ownership of projectsAbility to use problem-solving skills in order to resolve client issuesBasic mathematical knowledgeAbility to meet employer's attendance policyWork experience in email and Microsoft Windows environments is requiredMay be required to lift items weighing up to 50 poundsMay be required to stand for long periods of timeHS Diploma or equivalent (GED) requiredPreferred Qualification:Minimum 3 months customer service experiencePrior experience in Healthcare or Insurance Industry a plus\n",
      "26 : Qualifications:Must have6 monthscustomer service experience.Must have company related driving experience utilizinga commercial vehicleMust have valid driver's license and clean DMV record.Must be able to stand and walk for an extended period of time with or without accommodations.Must be able to lift and/or move up to 55lbs or maximum allowed by current state law with or without accommodations.Must have basic computer knowledgeMust be able to effectively communicate with clients and company personnel.May be required to work and backfillmorning scheduleoccasionallyHigh School Diploma or Equivalent requiredPreferred Qualifications:\n",
      "27 : Qualifications:Experience performing data entry, word processing, remittance processing or related functionsExperience in scanning/imaging requiredMinimum 1 year customer service related experience requiredMust have at least 1 year experience with mail or copy processesMinimum 1 year experience maintaining and troubleshooting printers and copiersStrong computer proficiency and work experience in email and Microsoft Windows environments is requiredAbility to communicate effectively both in verbal and written formAbility to effectively work individually or in a team environmentAbility to handle multiple projects simultaneouslyAbility to adapt to change in a fast-growing productionenvironmentStrong organizational and administrative skillsDemonstrated ability to show initiative and accept ownership ofprojectsAbility to use problem-solving skills in order to resolve client issuesAbility to meet employer's attendance policyAbility to lift and/or move items weighing up to 55 pounds or the maximum allowed by current State Law with or without accommodationsAbilityto sit, stand, and/or walk for long periods of timewith or without accommodationsHighschool Diploma or Equivalent required\n",
      "28 : A degree qualification1 years experience ideal (not essential)Interest in digital advertising/social mediaAnalytical thinker\n",
      "29 : Bachelors degree in a quantitative field, for example Mathematics, Engineering, Physics, Computer Science or similar.Work experience as a financial or data analystExperience in Advertising &amp; Marketing or Enterprise Software businesses&gt;Highly efficient and be able to multitaskComfortable with big data and working with numbersAttention to detail and takes pride in quality of work deliveredStrong interpersonal skills and the ability to thrive in a small company environment.An interest in digital marketing with an understanding of marketing principles and digital marketing metrics.Polished verbal and written communication skills\n",
      "30 : Must be able to develop alternatives and make recommendations Must be flexible and have the ability to handle many projects at one time  Must be self-motivated and able to perform with minimal supervision\n",
      "31 : A four year degree in Accounting3-5 years of direct experience working in an Accounting capacityAdvanced understanding of Microsoft Excel (pivot tables, VBA, macros, etc.)Experience with Intaact and/or NetSuite financialsExcellent communication and collaboration skills\n",
      "32 : Ability to thrive in a fast-paced, entrepreneurial, startup environmentFlexibility to work late/come in early as neededKnowledge of SQL and experience with an e-commerce business model a big plus\n",
      "33 : A degree or diploma in Computing Science, or equivalent disciplineA minimum of 3 years of employment experience in a software or web developer roleSome C#/.NET experience would be greatA familiarity with JavaScript is pretty essential - we use AngularJS quite heavilyMVCHTML and CSSMicrosoft SQL ServerServiceStackExcellent communication and English language skillsDrive to learn and grow within a new and dynamic environment\n",
      "34 : Position Qualifications:High school diploma or equivalent (GED) requiredMinimum of 1 year customer service related experience requiredAbility to communicate both verbally and written with customers and company personnel requiredComputer proficiency in email environments, MS Word/Excel or similar programs preferredAbility to handle multiple line phone systemStrong organizational and administrative skills preferredHandling up to a maximum of 55 pounds with or without accommodationsSort and deliver mail, packages, pouches both incoming and outgoingAbility to walk, sit, stand or sit for long periods (possibly entire shift)Ability to adhere to employee attendance policy\n",
      "35 : [endif]-->Key AccountabilitiesInteract with sales staff to support global sales activitiesModel the financial business case associated with each sales opportunityCreate material that clearly communicates the uniqueness of Upstream’s solutionsAttend sales meetings and present to prospective clientsRepresent Upstream at trade eventsCollect and document competitive intelligenceMaintain the company’s knowledge repositoryKnowledge/Skills/ExperienceBA/BS degree or equivalent3+ years of experience in mobile marketing, the mobile operator space, or the technology sector.Proficient with numbers and financial models in Microsoft ExcelMust possess a sense of design and proficiency in Microsoft PowerPointExtreme attention to detailWillingness to travelPersonal CharacteristicsBright, ambitious, self-driven, hard-working and flexibleAble to perform under pressure and deliver results in a demanding and fast-paced environment that requires fresh thinking and innovationFluent in EnglishExcellent written and verbal communication skills\n",
      "36 : Willingness to learn new server technologies like Varnish / lighttpd /Self-reliant, creative problem solver, outcome orientatedAdaptive learner, someone who’s motivated by the challenge of getting things done, team playerStrong communication skills to be able to converse with the business\n",
      "37 : Degree in Journalism, English, Communications or related field.Strong managerial skills with at least three years in a management role for an online publication.Ability to work independently while remaining accountable to and taking direction from Content Director.Ability to see projects through from conception to execution.Experience working within a content management system (WordPress).Strong time management, communication and interpersonal skills.Ability to manage multiple projects simultaneously.Previous experience in personal finance a plus.\n",
      "38 : You are able to work with minimal supervision and enjoy working in a startup environment.The Basics:You will be the person responsible for keeping the company running smoothly by managing Namely’s growing offices located in Herald Square and Greenpoint, Brooklyn, and assisting the operations teams.\n",
      "39 : SPECIALIZED KNOWLEDGE AND SKILLS:BS/​BA in marketing related field required.5-3 years in a hands-on, dynamic marketing position (internship experience counted)Experience in developing and maintaining marketing strategies for web and non-web based initiativesBusiness to business marketing experience a plusBi-lingual English and French a plusExperience and working knowledge of graphic and design principles a plusCOMMUNICATION SKILLS:Requires a proactive approach to all projects and an ability to work independently without close oversight from management – must be a proven self-starter.\n",
      "40 : Previous community management experience is an asset, but not required if you have the right attitude and personality.You are a self-starter, able to work independently, plan your daily duties and organize your tasks to work as efficiently as possible.You are friendly and outgoing, able to engage with partner location owners and staff as well as the general public to get them excited about our service.Post-secondary education is preferred, as we are looking for a long-term prospect who will eventually be able to manage the city.\n",
      "41 : RequirementsAble to worked under stressAble to work in a non climate control environmentAble to lift 25lbs or moreAble to pass a background check and drug testAuthorized to work for any employer in the US\n",
      "42 : procedures.5+ years experience installing FiberAbility to work at elevations.Ability to work outdoors and in inclement weather conditions.Must be willing to respond to emergency calls 24 hours a day.Arizona driver’s license required at time of hire.Successful candidates must pass government background check, driver’s license check, and drug test.\n",
      "43 : or the maximum allowed by current State law with or without accommodationsAbility to stand, sit and/or walk for long periods of time with or without accommodationsMust have a valid driver's license and a good driving recordPreferred Qualifications:Undergraduate degree preferred\n",
      "44 : The ability to work as a team member or independently, with minimal supervision is necessary.• Ability to manage multiple and varied tasks with enthusiasm and prioritize workload with attention to detail.Education•\n"
     ]
    }
   ],
   "source": [
    "predicted_discriminitory_sentences = unlabeled_text_labeles.loc[unlabeled_text_labeles['label']==True]['text']\n",
    "n = 1\n",
    "for i in predicted_discriminitory_sentences:\n",
    "    print(n,':',i)\n",
    "    n+=1"
   ]
  },
  {
   "cell_type": "code",
   "execution_count": 46,
   "metadata": {
    "colab": {
     "base_uri": "https://localhost:8080/",
     "height": 529
    },
    "id": "Q7ZRCwRpGL-F",
    "outputId": "a5fff540-accc-40ce-9535-e5c9e20e052e"
   },
   "outputs": [
    {
     "name": "stdout",
     "output_type": "stream",
     "text": [
      "0.0    557\n",
      "1.0     44\n",
      "Name: label, dtype: int64\n"
     ]
    },
    {
     "data": {
      "text/plain": [
       "Text(0.5, 1.0, 'Distribution of Labels')"
      ]
     },
     "execution_count": 46,
     "metadata": {},
     "output_type": "execute_result"
    },
    {
     "data": {
      "image/png": "[encoded data removed]",
      "text/plain": [
       "<Figure size 432x288 with 1 Axes>"
      ]
     },
     "metadata": {
      "needs_background": "light"
     },
     "output_type": "display_data"
    }
   ],
   "source": [
    "from matplotlib import pyplot as plt\n",
    "print(unlabeled_text_labeles['label'].value_counts())\n",
    "unlabeled_text_labeles['label'].value_counts().plot.bar()\n",
    "#plt.yscale('log');\n",
    "plt.title('Distribution of Labels')"
   ]
  },
  {
   "cell_type": "markdown",
   "metadata": {
    "id": "jVfiJBo7GL-F"
   },
   "source": [
    "# find words in the word corpus"
   ]
  },
  {
   "cell_type": "code",
   "execution_count": null,
   "metadata": {
    "id": "UEwC-BmKGL-F"
   },
   "outputs": [],
   "source": [
    "from reversestem import unstem"
   ]
  },
  {
   "cell_type": "code",
   "execution_count": null,
   "metadata": {
    "id": "ha8Fxl89GL-F",
    "outputId": "d13ce18c-7efb-4796-bed5-d190f8534feb"
   },
   "outputs": [
    {
     "data": {
      "text/plain": [
       "['vibrant',\n",
       " 'active',\n",
       " 'energetic',\n",
       " 'witty',\n",
       " 'high-performer',\n",
       " 'high performer',\n",
       " 'ambitious',\n",
       " 'fun',\n",
       " 'dynamic',\n",
       " 'adaptable',\n",
       " 'creative',\n",
       " 'sharp',\n",
       " 'tech-savvy',\n",
       " 'tech savvy',\n",
       " 'quick-learner',\n",
       " 'quick learner',\n",
       " 'adaptable',\n",
       " 'flexible',\n",
       " 'creative',\n",
       " 'innovative',\n",
       " 'fast learner',\n",
       " 'fast-learner',\n",
       " 'recent college graduate',\n",
       " 'youthful',\n",
       " 'GPA']"
      ]
     },
     "execution_count": 175,
     "metadata": {},
     "output_type": "execute_result"
    }
   ],
   "source": [
    "word_corpus = []\n",
    "with open('word_corpus.txt') as f:\n",
    "    for line in f:\n",
    "        word_corpus.append(line.strip())\n",
    "\n",
    "word_corpus"
   ]
  },
  {
   "cell_type": "code",
   "execution_count": null,
   "metadata": {
    "id": "NsBWHSQdGL-F",
    "outputId": "6973d0ca-ac0d-4944-d0fa-a26fc490291e"
   },
   "outputs": [
    {
     "name": "stdout",
     "output_type": "stream",
     "text": [
      "fun\n",
      "adaptable\n",
      "creative\n",
      "sharp\n",
      "adaptable\n",
      "creative\n",
      "innovative\n"
     ]
    }
   ],
   "source": [
    "ageist_word_corpus_unstem = []\n",
    "for i in word_corpus:\n",
    "    try:\n",
    "        unstemmed_words = unstem(i, flatten=True)\n",
    "        if unstemmed_words == None:\n",
    "            ageist_word_corpus_unstem.append(i)\n",
    "        else:\n",
    "            ageist_word_corpus_unstem.extend(unstemmed_words)\n",
    "    except:\n",
    "        print(i)\n",
    "        ageist_word_corpus_unstem.append(i)\n"
   ]
  },
  {
   "cell_type": "code",
   "execution_count": null,
   "metadata": {
    "id": "dKQglQ8LGL-F",
    "outputId": "5af4167f-f818-4689-9724-5b9dc4919950"
   },
   "outputs": [
    {
     "name": "stdout",
     "output_type": "stream",
     "text": [
      "Join a fast growing technology education movement!Apps for Good (#URL_937118d268463f038aabd860063eb978f7ad6c0a78ed8e595e39bfa1de380e90#) is an award-winning technology education movement where young people in schools learn to create apps that solve problems they care about and change their world.\n"
     ]
    }
   ],
   "source": [
    "text = predicted_discriminitory_sentences.iloc[0]\n",
    "print(text)\n",
    "for word in word_corpus:\n",
    "    if text.lower().count(word) != 0:       \n",
    "        print(word, text.lower().count(word))"
   ]
  }
 ],
 "metadata": {
  "colab": {
   "gpuType": "T4",
   "provenance": []
  },
  "gpuClass": "standard",
  "kernelspec": {
   "display_name": "aml",
   "language": "python",
   "name": "aml"
  },
  "language_info": {
   "codemirror_mode": {
    "name": "ipython",
    "version": 3
   },
   "file_extension": ".py",
   "mimetype": "text/x-python",
   "name": "python",
   "nbconvert_exporter": "python",
   "pygments_lexer": "ipython3",
   "version": "3.10.4"
  }
 },
 "nbformat": 4,
 "nbformat_minor": 1
}
