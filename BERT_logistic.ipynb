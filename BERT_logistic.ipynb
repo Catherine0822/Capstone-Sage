{
  "cells": [
    {
      "cell_type": "code",
      "execution_count": 1,
      "metadata": {
        "colab": {
          "base_uri": "https://localhost:8080/",
          "height": 383
        },
        "id": "CWhGCZ6RGL-C",
        "outputId": "d5cb8134-8827-43fd-b961-405a21721254"
      },
      "outputs": [],
      "source": [
        "from sklearn.feature_extraction.text import CountVectorizer\n",
        "from sklearn.linear_model import LogisticRegression\n",
        "from sklearn.pipeline import make_pipeline\n",
        "from sklearn.metrics import classification_report, precision_recall_curve, PrecisionRecallDisplay\n",
        "from pytorch_pretrained_bert import BertTokenizer\n",
        "from tensorflow.keras.preprocessing.sequence import pad_sequences\n",
        "from pytorch_pretrained_bert import BertModel\n",
        "from torch import nn\n",
        "import torch\n",
        "from torch.utils.data import TensorDataset, DataLoader, RandomSampler, SequentialSampler\n",
        "from torch.optim import Adam\n",
        "from torch.nn.utils import clip_grad_norm_\n",
        "from IPython.display import clear_output\n",
        "from sklearn.linear_model import LinearRegression\n",
        "import pandas as pd\n",
        "import numpy as np\n",
        "from matplotlib import pyplot as plt\n",
        "from sklearn.model_selection import train_test_split\n",
        "import tensorflow as tf\n"
      ]
    },
    {
      "cell_type": "code",
      "execution_count": 41,
      "metadata": {
        "colab": {
          "base_uri": "https://localhost:8080/",
          "height": 240
        },
        "id": "0rAa5Um2GL96",
        "outputId": "aa2a0820-e563-4154-a36a-6f6405bc1639"
      },
      "outputs": [
        {
          "name": "stdout",
          "output_type": "stream",
          "text": [
            "(787, 2)\n"
          ]
        },
        {
          "data": {
            "text/html": [
              "<div>\n",
              "<style scoped>\n",
              "    .dataframe tbody tr th:only-of-type {\n",
              "        vertical-align: middle;\n",
              "    }\n",
              "\n",
              "    .dataframe tbody tr th {\n",
              "        vertical-align: top;\n",
              "    }\n",
              "\n",
              "    .dataframe thead th {\n",
              "        text-align: right;\n",
              "    }\n",
              "</style>\n",
              "<table border=\"1\" class=\"dataframe\">\n",
              "  <thead>\n",
              "    <tr style=\"text-align: right;\">\n",
              "      <th></th>\n",
              "      <th>text</th>\n",
              "      <th>label</th>\n",
              "    </tr>\n",
              "  </thead>\n",
              "  <tbody>\n",
              "    <tr>\n",
              "      <th>0</th>\n",
              "      <td>You will work closely with our product, engine...</td>\n",
              "      <td>1</td>\n",
              "    </tr>\n",
              "    <tr>\n",
              "      <th>1</th>\n",
              "      <td>We're building and growing which means you'll ...</td>\n",
              "      <td>0</td>\n",
              "    </tr>\n",
              "    <tr>\n",
              "      <th>2</th>\n",
              "      <td>Leveraging our large amount of structured and ...</td>\n",
              "      <td>0</td>\n",
              "    </tr>\n",
              "    <tr>\n",
              "      <th>3</th>\n",
              "      <td>Experience mentoring and building a technical ...</td>\n",
              "      <td>0</td>\n",
              "    </tr>\n",
              "    <tr>\n",
              "      <th>4</th>\n",
              "      <td>MSc (PhD preferred) in hard sciences or comput...</td>\n",
              "      <td>0</td>\n",
              "    </tr>\n",
              "  </tbody>\n",
              "</table>\n",
              "</div>"
            ],
            "text/plain": [
              "                                                text  label\n",
              "0  You will work closely with our product, engine...      1\n",
              "1  We're building and growing which means you'll ...      0\n",
              "2  Leveraging our large amount of structured and ...      0\n",
              "3  Experience mentoring and building a technical ...      0\n",
              "4  MSc (PhD preferred) in hard sciences or comput...      0"
            ]
          },
          "execution_count": 41,
          "metadata": {},
          "output_type": "execute_result"
        }
      ],
      "source": [
        "df = pd.read_csv('annotation_all.csv')\n",
        "df = df.iloc[:,:2]\n",
        "#df_valid = pd.read_csv('valid.csv')\n",
        "df.columns = ['text', 'label']\n",
        "#df_valid.columns = ['text', 'label']\n",
        "#df.dropna()\n",
        "\n",
        "print(df.shape)\n",
        "df.head(5)"
      ]
    },
    {
      "cell_type": "code",
      "execution_count": 42,
      "metadata": {
        "id": "fVocye7iGL96",
        "outputId": "652aa571-a9c9-461b-ace6-a5eacc57d1ff"
      },
      "outputs": [
        {
          "name": "stdout",
          "output_type": "stream",
          "text": [
            "0    545\n",
            "1    242\n",
            "Name: label, dtype: int64\n"
          ]
        },
        {
          "data": {
            "text/plain": [
              "Text(0.5, 1.0, 'Distribution of Labels')"
            ]
          },
          "execution_count": 42,
          "metadata": {},
          "output_type": "execute_result"
        },
        {
          "data": {
            "image/png": "[encoded data removed]",
            "text/plain": [
              "<Figure size 432x288 with 1 Axes>"
            ]
          },
          "metadata": {
            "needs_background": "light"
          },
          "output_type": "display_data"
        }
      ],
      "source": [
        "print(df['label'].value_counts())\n",
        "df['label'].value_counts().plot.bar()\n",
        "#plt.yscale('log');\n",
        "plt.title('Distribution of Labels')"
      ]
    },
    {
      "cell_type": "code",
      "execution_count": 45,
      "metadata": {
        "id": "ILZ-yuIqGL97",
        "outputId": "dd001a93-300d-4d61-9325-05f4dd5f3e0b"
      },
      "outputs": [
        {
          "name": "stdout",
          "output_type": "stream",
          "text": [
            "training set: 471\n",
            "validation set: 158\n",
            "test set: 158\n"
          ]
        }
      ],
      "source": [
        "#train_df, val_df = train_test_split(df, test_size=0.1)\n",
        "X_train, X_test, y_train, y_test = train_test_split(df['text'], df['label'], test_size=0.2, random_state=1)\n",
        "X_train, X_val, y_train, y_val = train_test_split(X_train, y_train, test_size=0.25, random_state=1) # 0.25 x 0.8 = 0.2\n",
        "\n",
        "print('training set:', len(X_train))\n",
        "print('validation set:', len(X_val))\n",
        "print('test set:',len(X_test))"
      ]
    },
    {
      "cell_type": "code",
      "execution_count": 47,
      "metadata": {
        "id": "D7qXaHiKGL97",
        "outputId": "bb9865d9-74b7-4091-ebd6-19d24ed29d87"
      },
      "outputs": [
        {
          "name": "stdout",
          "output_type": "stream",
          "text": [
            "0    331\n",
            "1    140\n",
            "Name: label, dtype: int64\n",
            "0    111\n",
            "1     47\n",
            "Name: label, dtype: int64\n",
            "0    103\n",
            "1     55\n",
            "Name: label, dtype: int64\n"
          ]
        }
      ],
      "source": [
        "print(y_train.value_counts())\n",
        "print(y_val.value_counts())\n",
        "print(y_test.value_counts())\n",
        "\n",
        "#plt.yscale('log');"
      ]
    },
    {
      "cell_type": "code",
      "execution_count": 48,
      "metadata": {
        "id": "khjqdd0dGL98",
        "outputId": "325bdb1c-e275-4cd7-9f1e-789404d04b23"
      },
      "outputs": [
        {
          "name": "stdout",
          "output_type": "stream",
          "text": [
            "Average word length of questions in dataset is 18.\n",
            "Max word length of questions in dataset is 86.\n",
            "Average character length of questions in dataset is 121.\n",
            "Min character length of questions in dataset is 1.\n"
          ]
        }
      ],
      "source": [
        "print('Average word length of questions in dataset is {0:.0f}.'.format(np.mean(df['text'].apply(lambda x: len(x.split())))))\n",
        "print('Max word length of questions in dataset is {0:.0f}.'.format(np.max(df['text'].apply(lambda x: len(x.split())))))\n",
        "print('Average character length of questions in dataset is {0:.0f}.'.format(np.mean(df['text'].apply(lambda x: len(x)))))\n",
        "print('Min character length of questions in dataset is {0:.0f}.'.format(np.min(df['text'].apply(lambda x: len(x.split())))))\n"
      ]
    },
    {
      "cell_type": "code",
      "execution_count": 49,
      "metadata": {
        "id": "JaqNWkowGL98",
        "outputId": "fe13d12a-bdab-4ab3-b777-e69a1cb461f2"
      },
      "outputs": [
        {
          "data": {
            "text/plain": [
              "Text(0.5, 1.0, 'Distribution of question text length in words')"
            ]
          },
          "execution_count": 49,
          "metadata": {},
          "output_type": "execute_result"
        },
        {
          "data": {
            "image/png": "[encoded data removed]",
            "text/plain": [
              "<Figure size 432x288 with 1 Axes>"
            ]
          },
          "metadata": {
            "needs_background": "light"
          },
          "output_type": "display_data"
        }
      ],
      "source": [
        "# Analyzing the Distribution of Question Text Length in Words\n",
        "df['text'].apply(lambda x: len(x.split())).plot(kind='hist');\n",
        "#plt.yscale('log');\n",
        "plt.title('Distribution of question text length in words')"
      ]
    },
    {
      "attachments": {},
      "cell_type": "markdown",
      "metadata": {
        "id": "2g82B-Z7GL-C"
      },
      "source": [
        "# Logistic regression & BERT"
      ]
    },
    {
      "cell_type": "code",
      "execution_count": null,
      "metadata": {
        "colab": {
          "base_uri": "https://localhost:8080/"
        },
        "id": "nSlaFzhfHERI",
        "outputId": "b40ec669-2adc-42d5-89b1-17c393ba50b4"
      },
      "outputs": [],
      "source": [
        "# If you have your folder of data on your Google drive account, you can connect that here\n",
        "from google.colab import drive\n",
        "drive.mount('/content/drive')"
      ]
    },
    {
      "cell_type": "code",
      "execution_count": null,
      "metadata": {
        "id": "XBObCReoHHz9"
      },
      "outputs": [],
      "source": [
        "# Change this to the directory with your data\n",
        "directory=\"/content/drive/MyDrive/NLP/age_annotation\""
      ]
    },
    {
      "cell_type": "code",
      "execution_count": 3,
      "metadata": {
        "colab": {
          "base_uri": "https://localhost:8080/"
        },
        "id": "acAQXfCpHPI8",
        "outputId": "87964e58-60a2-4aa8-cb7b-9885d7999bd0"
      },
      "outputs": [
        {
          "name": "stdout",
          "output_type": "stream",
          "text": [
            "Running on cpu\n"
          ]
        }
      ],
      "source": [
        "device = torch.device(\"cuda\" if torch.cuda.is_available() else \"cpu\")\n",
        "#device = torch.device(\"mps\" if torch.backends.mps.is_available() else \"cpu\")\n",
        "print(\"Running on {}\".format(device))"
      ]
    },
    {
      "cell_type": "code",
      "execution_count": 12,
      "metadata": {
        "colab": {
          "base_uri": "https://localhost:8080/"
        },
        "id": "H4GRTAdHGL-C",
        "outputId": "05be416b-1fe4-46af-9608-2ae95869bece"
      },
      "outputs": [
        {
          "name": "stdout",
          "output_type": "stream",
          "text": [
            "471 471 158 158 158 158\n"
          ]
        }
      ],
      "source": [
        "# import data\n",
        "#df = pd.read_csv('%s/annotation_all.csv' % directory)\n",
        "df = pd.read_csv('annotation_all.csv')\n",
        "\n",
        "df = df.iloc[:,:2]\n",
        "#df_valid = pd.read_csv('valid.csv')\n",
        "df.columns = ['text', 'label']\n",
        "\n",
        "#split train, test, dev data\n",
        "######################################################\n",
        "\n",
        "#train_df, val_df = train_test_split(df, test_size=0.1)\n",
        "#X_train, X_test, y_train, y_test = train_test_split(df['text'], df['label'], test_size=0.2, random_state=1)\n",
        "#X_train, X_val, y_train, y_val = train_test_split(X_train, y_train, test_size=0.25, random_state=1) # 0.25 x 0.8 = 0.2\n",
        "\n",
        "print(len(X_train), len(y_train), len(X_val), len(y_val), len(X_test), len(y_test))"
      ]
    },
    {
      "cell_type": "code",
      "execution_count": 13,
      "metadata": {
        "id": "9IIojjNCGL-C"
      },
      "outputs": [],
      "source": [
        "tokenizer = BertTokenizer.from_pretrained('bert-base-uncased', do_lower_case=True)\n",
        "train_tokens = list(map(lambda t: ['[CLS]'] + tokenizer.tokenize(t)[:511], X_train))\n",
        "val_tokens = list(map(lambda t: ['[CLS]'] + tokenizer.tokenize(t)[:511], X_val))\n",
        "test_tokens = list(map(lambda t: ['[CLS]'] + tokenizer.tokenize(t)[:511], X_test))"
      ]
    },
    {
      "cell_type": "code",
      "execution_count": 14,
      "metadata": {
        "colab": {
          "base_uri": "https://localhost:8080/"
        },
        "id": "Lf-ePXzYGL-C",
        "outputId": "bf8e28a5-b87f-46c1-f987-d5a9be572c25"
      },
      "outputs": [
        {
          "name": "stdout",
          "output_type": "stream",
          "text": [
            "(471, 512) (158, 512) (158, 512)\n"
          ]
        }
      ],
      "source": [
        "train_tokens_ids = list(map(tokenizer.convert_tokens_to_ids, train_tokens))\n",
        "val_tokens_ids = list(map(tokenizer.convert_tokens_to_ids, val_tokens))\n",
        "test_tokens_ids = list(map(tokenizer.convert_tokens_to_ids, test_tokens))\n",
        "\n",
        "train_tokens_ids = pad_sequences(train_tokens_ids, maxlen=512, truncating=\"post\", padding=\"post\", dtype=\"int\")\n",
        "val_tokens_ids = pad_sequences(val_tokens_ids, maxlen=512, truncating=\"post\", padding=\"post\", dtype=\"int\")\n",
        "test_tokens_ids = pad_sequences(test_tokens_ids, maxlen=512, truncating=\"post\", padding=\"post\", dtype=\"int\")\n",
        "\n",
        "print(train_tokens_ids.shape, val_tokens_ids.shape, test_tokens_ids.shape)"
      ]
    },
    {
      "cell_type": "code",
      "execution_count": 15,
      "metadata": {
        "colab": {
          "base_uri": "https://localhost:8080/"
        },
        "id": "KNR8kvtfGL-C",
        "outputId": "7af25aa5-5304-4849-c3b4-e54b9fa6df2c"
      },
      "outputs": [
        {
          "data": {
            "text/plain": [
              "((471,), (158,), 0.29723991507430997, 0.2974683544303797)"
            ]
          },
          "execution_count": 15,
          "metadata": {},
          "output_type": "execute_result"
        }
      ],
      "source": [
        "train_y = np.array(y_train) == 1\n",
        "val_y = np.array(y_val) == 1\n",
        "test_y = np.array(y_test) == 1\n",
        "train_y.shape, val_y.shape, np.mean(train_y), np.mean(val_y)"
      ]
    },
    {
      "cell_type": "code",
      "execution_count": 16,
      "metadata": {
        "id": "QUB-srQoGL-C"
      },
      "outputs": [],
      "source": [
        "train_masks = [[float(i > 0) for i in ii] for ii in train_tokens_ids]\n",
        "val_masks = [[float(i > 0) for i in ii] for ii in val_tokens_ids]\n",
        "test_masks = [[float(i > 0) for i in ii] for ii in test_tokens_ids]"
      ]
    },
    {
      "cell_type": "code",
      "execution_count": 17,
      "metadata": {
        "colab": {
          "base_uri": "https://localhost:8080/"
        },
        "id": "9xCV5jOnGL-D",
        "outputId": "9cedfc84-b8e2-4a0b-b95c-2a8c4eba68c9"
      },
      "outputs": [
        {
          "name": "stdout",
          "output_type": "stream",
          "text": [
            "              precision    recall  f1-score   support\n",
            "\n",
            "           0       0.77      0.98      0.87       111\n",
            "           1       0.88      0.32      0.47        47\n",
            "\n",
            "    accuracy                           0.78       158\n",
            "   macro avg       0.83      0.65      0.67       158\n",
            "weighted avg       0.81      0.78      0.75       158\n",
            "\n"
          ]
        }
      ],
      "source": [
        "## Train baseline model and predict\n",
        "######################################################\n",
        "baseline_model = make_pipeline(CountVectorizer(ngram_range=(1,3)), LogisticRegression())\n",
        "baseline_model = baseline_model.fit(X_train, y_train)\n",
        "\n",
        "baseline_predicted = baseline_model.predict(X_val)\n",
        "print(classification_report(y_val, baseline_predicted))"
      ]
    },
    {
      "cell_type": "code",
      "execution_count": 18,
      "metadata": {
        "id": "MlZeUEAOGL-D"
      },
      "outputs": [],
      "source": [
        "#Bert model\n",
        "class BertBinaryClassifier(nn.Module):\n",
        "    def __init__(self, dropout=0.1):\n",
        "        super(BertBinaryClassifier, self).__init__()\n",
        "        self.bert = BertModel.from_pretrained('bert-base-uncased')\n",
        "        self.linear = nn.Linear(768, 1)\n",
        "\n",
        "    \n",
        "    def forward(self, tokens, masks=None):\n",
        "        _, pooled_output = self.bert(tokens, attention_mask=masks, output_all_encoded_layers=False)\n",
        "        # now you can implement any architecture that receives bert sequence output\n",
        "        #pooled_output = \n",
        "        linear_output = self.linear(pooled_output)\n",
        "        return linear_output"
      ]
    },
    {
      "cell_type": "code",
      "execution_count": 19,
      "metadata": {
        "id": "rPmAnmhfGL-D"
      },
      "outputs": [],
      "source": [
        "bert_clf = BertBinaryClassifier()\n",
        "#bert_clf = bert_clf.cuda()\n",
        "#bert_clf.to(device)"
      ]
    },
    {
      "cell_type": "code",
      "execution_count": 31,
      "metadata": {
        "id": "Ihev4tv-GL-D"
      },
      "outputs": [],
      "source": [
        "BATCH_SIZE = 15\n",
        "EPOCHS = 3"
      ]
    },
    {
      "cell_type": "code",
      "execution_count": 32,
      "metadata": {
        "colab": {
          "base_uri": "https://localhost:8080/",
          "height": 35
        },
        "id": "iWn7wn3QGL-D",
        "outputId": "bdb1e61d-8803-40cb-bd3e-03a720852c0a"
      },
      "outputs": [
        {
          "data": {
            "text/plain": [
              "'0.0M'"
            ]
          },
          "execution_count": 32,
          "metadata": {},
          "output_type": "execute_result"
        }
      ],
      "source": [
        "train_tokens_tensor = torch.tensor(train_tokens_ids)\n",
        "train_y_tensor = torch.tensor(train_y.reshape(-1, 1)).float()\n",
        "\n",
        "val_tokens_tensor = torch.tensor(val_tokens_ids)\n",
        "val_y_tensor = torch.tensor(val_y.reshape(-1, 1)).float()\n",
        "\n",
        "test_tokens_tensor = torch.tensor(test_tokens_ids)\n",
        "test_y_tensor = torch.tensor(test_y.reshape(-1, 1)).float()\n",
        "\n",
        "train_masks_tensor = torch.tensor(train_masks)\n",
        "val_masks_tensor = torch.tensor(val_masks)\n",
        "test_masks_tensor = torch.tensor(test_masks)\n",
        "\n",
        "str(torch.cuda.memory_allocated(device)/1000000 ) + 'M'"
      ]
    },
    {
      "cell_type": "code",
      "execution_count": 33,
      "metadata": {
        "id": "QharK4hUGL-D"
      },
      "outputs": [],
      "source": [
        "train_dataset = TensorDataset(train_tokens_tensor, train_masks_tensor, train_y_tensor)\n",
        "train_sampler = RandomSampler(train_dataset)\n",
        "train_dataloader = DataLoader(train_dataset, sampler=train_sampler, batch_size=BATCH_SIZE)\n",
        "\n",
        "val_dataset = TensorDataset(val_tokens_tensor, val_masks_tensor, val_y_tensor)\n",
        "val_sampler = SequentialSampler(val_dataset)\n",
        "val_dataloader = DataLoader(val_dataset, sampler=val_sampler, batch_size=BATCH_SIZE)\n",
        "\n",
        "test_dataset = TensorDataset(test_tokens_tensor, test_masks_tensor, test_y_tensor)\n",
        "test_sampler = SequentialSampler(test_dataset)\n",
        "test_dataloader = DataLoader(test_dataset, sampler=test_sampler, batch_size=BATCH_SIZE)"
      ]
    },
    {
      "cell_type": "code",
      "execution_count": 34,
      "metadata": {
        "id": "nXLeCGzLGL-D"
      },
      "outputs": [],
      "source": [
        "optimizer = Adam(bert_clf.parameters(), lr=3e-6)\n",
        "#loss_func = nn.BCEWithLogitsLoss().cuda()\n",
        "\n",
        "loss_func = nn.BCEWithLogitsLoss().to(device)"
      ]
    },
    {
      "cell_type": "code",
      "execution_count": 36,
      "metadata": {},
      "outputs": [
        {
          "name": "stdout",
          "output_type": "stream",
          "text": [
            "Epoch:  3\n",
            "31/31.4 train_loss: 0.540955544449389 \n",
            "Epoch 3 \t\t Training Loss: 0.540955544449389 \t\t Validation Loss: 0.050780822422878805\n",
            "[0.5780589526349847, 0.5659089874137532, 0.5585890466516669]\n"
          ]
        }
      ],
      "source": [
        "train_losses = []\n",
        "val_losses = []\n",
        "steps = []\n",
        "step = 0\n",
        "best_loss = float('inf')\n",
        "\n",
        "for epoch_num in range(EPOCHS):\n",
        "    bert_clf.train()\n",
        "    train_loss = 0\n",
        "    for step_num, batch_data in enumerate(train_dataloader):\n",
        "        token_ids, masks, labels = tuple(t.to(device) for t in batch_data)\n",
        "        # Forward Pass\n",
        "        probas = bert_clf(token_ids, masks)\n",
        "        \n",
        "        # Find the Loss\n",
        "        batch_loss = loss_func(probas, labels)\n",
        "\n",
        "        # Calculate Loss\n",
        "        train_loss += batch_loss.item()\n",
        "        \n",
        "        # Clear the gradients\n",
        "        bert_clf.zero_grad()\n",
        "\n",
        "        # Calculate gradients \n",
        "        batch_loss.backward()\n",
        "        \n",
        "        # Update Weights\n",
        "        clip_grad_norm_(parameters=bert_clf.parameters(), max_norm=1.0)\n",
        "        optimizer.step()\n",
        "\n",
        "        clear_output(wait=True)\n",
        "        print('Epoch: ', epoch_num + 1)\n",
        "        print(\"{0}/{1} train_loss: {2} \".format(step_num, len(train_y) / BATCH_SIZE, train_loss / (step_num + 1)))\n",
        "        train_losses.append(batch_loss.item())\n",
        "        steps.append(step)\n",
        "        step += 1\n",
        "\n",
        "    # Evaluation on validation set\n",
        "    bert_clf.eval() # Optional when not using Model Specific layer\n",
        "    val_loss = 0\n",
        "    with torch.no_grad():\n",
        "        for step_num, batch_data in enumerate(val_dataloader):\n",
        "            token_ids, masks, labels = tuple(t.to(device) for t in batch_data)\n",
        "            probas = bert_clf(token_ids, masks)\n",
        "            batch_loss = loss_func(probas, labels)\n",
        "            val_loss += batch_loss.item()\n",
        "\n",
        "    val_loss /= len(val_dataloader)\n",
        "    val_losses.append(val_loss)\n",
        "\n",
        "    if val_loss < best_loss:\n",
        "        best_loss = val_loss\n",
        "        torch.save(bert_clf.state_dict(), 'best_model.pth')\n",
        "    \n",
        "    #clear_output(wait=True)\n",
        "    #print('Epoch: ', epoch_num + 1)\n",
        "    #print(\"train_loss: {0:.4f} val_loss: {1:.4f}\".format(train_loss / len(train_dataloader), val_loss))\n",
        "    print(f'Epoch {epoch_num+1} \\t\\t Training Loss: {train_loss / len(train_dataloader)} \\t\\t Validation Loss: {val_loss / len(val_dataloader)}')\n",
        "print(val_losses)\n"
      ]
    },
    {
      "cell_type": "code",
      "execution_count": 37,
      "metadata": {
        "id": "ApAZlzkAGL-E"
      },
      "outputs": [],
      "source": [
        "def sigmoid(x):                                        \n",
        "    return 1 / (1 + np.exp(-x))\n",
        "\n",
        "\n",
        "bert_clf.eval()\n",
        "bert_predicted = []\n",
        "all_logits = []\n",
        "with torch.no_grad():\n",
        "    for step_num, batch_data in enumerate(test_dataloader):\n",
        "\n",
        "        token_ids, masks, labels = tuple(t.to(device) for t in batch_data)\n",
        "\n",
        "        logits = bert_clf(token_ids, masks)\n",
        "        numpy_logits = logits.cpu().detach().numpy()\n",
        "\n",
        "        all_logits.append(numpy_logits)\n",
        "\n",
        "test_logits = np.vstack(all_logits)\n",
        "        \n",
        "        #bert_predicted += list(sigmoid(numpy_probas[:, 0]>0.5))"
      ]
    },
    {
      "cell_type": "code",
      "execution_count": 38,
      "metadata": {
        "colab": {
          "base_uri": "https://localhost:8080/"
        },
        "id": "3Rhu3PVZGL-E",
        "outputId": "d7eb6073-1177-433c-86ad-b5e163df7d16"
      },
      "outputs": [
        {
          "name": "stdout",
          "output_type": "stream",
          "text": [
            "              precision    recall  f1-score   support\n",
            "\n",
            "           0       0.71      0.96      0.82       103\n",
            "           1       0.79      0.27      0.41        55\n",
            "\n",
            "    accuracy                           0.72       158\n",
            "   macro avg       0.75      0.62      0.61       158\n",
            "weighted avg       0.74      0.72      0.67       158\n",
            "\n"
          ]
        }
      ],
      "source": [
        "print(classification_report(y_test, sigmoid(test_logits[:, 0]) > 0.5))"
      ]
    },
    {
      "cell_type": "code",
      "execution_count": 39,
      "metadata": {},
      "outputs": [
        {
          "data": {
            "text/plain": [
              "<AxesSubplot:>"
            ]
          },
          "execution_count": 39,
          "metadata": {},
          "output_type": "execute_result"
        },
        {
          "data": {
            "image/png": "[encoded data removed]",
            "text/plain": [
              "<Figure size 432x288 with 2 Axes>"
            ]
          },
          "metadata": {
            "needs_background": "light"
          },
          "output_type": "display_data"
        }
      ],
      "source": [
        "from sklearn.metrics import confusion_matrix\n",
        "import seaborn as sns\n",
        "cm = confusion_matrix(y_test, sigmoid(test_logits[:, 0]) > 0.5)\n",
        "group_names = ['True Neg','False Pos','False Neg','True Pos']\n",
        "\n",
        "group_counts = ['{0:0.0f}'.format(value) for value in\n",
        "                cm.flatten()]\n",
        "group_percentages = ['{0:.2%}'.format(value) for value in\n",
        "                     cm.flatten()/np.sum(cm)]\n",
        "labels = [f'{v1}\\n{v2}\\n{v3}' for v1, v2, v3 in\n",
        "          zip(group_names,group_counts,group_percentages)]\n",
        "\n",
        "labels = np.asarray(labels).reshape(2,2)\n",
        "\n",
        "sns.heatmap(cm, annot=labels, fmt='', cmap='Blues')\n"
      ]
    },
    {
      "cell_type": "code",
      "execution_count": 40,
      "metadata": {
        "colab": {
          "base_uri": "https://localhost:8080/",
          "height": 466
        },
        "id": "8W28D6J-GL-E",
        "outputId": "edf7fe2f-d76e-4a16-a9e4-2d809ecc6025"
      },
      "outputs": [
        {
          "data": {
            "text/plain": [
              "<sklearn.metrics._plot.precision_recall_curve.PrecisionRecallDisplay at 0x177cf0940>"
            ]
          },
          "execution_count": 40,
          "metadata": {},
          "output_type": "execute_result"
        },
        {
          "data": {
            "image/png": "[encoded data removed]",
            "text/plain": [
              "<Figure size 432x288 with 1 Axes>"
            ]
          },
          "metadata": {
            "needs_background": "light"
          },
          "output_type": "display_data"
        }
      ],
      "source": [
        "PrecisionRecallDisplay.from_predictions(y_test, sigmoid(test_logits[:, 0]), name=\"LogisticRegression\")"
      ]
    },
    {
      "cell_type": "markdown",
      "metadata": {
        "id": "jow4RPNcGL-E"
      },
      "source": [
        "# distilling bert\n"
      ]
    },
    {
      "cell_type": "code",
      "execution_count": 25,
      "metadata": {
        "id": "HXQHM8BOGL-E"
      },
      "outputs": [],
      "source": [
        "#distilling bert\n",
        "train_dataset_for_distill = TensorDataset(train_tokens_tensor, train_masks_tensor, train_y_tensor)\n",
        "train_dataloader_for_distill = DataLoader(train_dataset, batch_size=BATCH_SIZE)"
      ]
    },
    {
      "cell_type": "code",
      "execution_count": 26,
      "metadata": {
        "id": "LOkpJNUpGL-E"
      },
      "outputs": [],
      "source": [
        "bert_clf.eval()\n",
        "train_logits = []\n",
        "with torch.no_grad():\n",
        "    for step_num, batch_data in enumerate(train_dataloader_for_distill):\n",
        "\n",
        "        token_ids, masks, labels = tuple(t.to(device) for t in batch_data)\n",
        "\n",
        "        logits = bert_clf(token_ids, masks)\n",
        "        numpy_logits = logits.cpu().detach().numpy()\n",
        "        \n",
        "        train_logits.append(numpy_logits)\n",
        "train_logits = np.vstack(train_logits)"
      ]
    },
    {
      "cell_type": "code",
      "execution_count": 27,
      "metadata": {
        "colab": {
          "base_uri": "https://localhost:8080/"
        },
        "id": "aeIexgo9GL-E",
        "outputId": "9de610ab-de34-49d6-c5f2-8e1f59cd94f5"
      },
      "outputs": [
        {
          "name": "stdout",
          "output_type": "stream",
          "text": [
            "              precision    recall  f1-score   support\n",
            "\n",
            "       False       0.79      0.99      0.88       331\n",
            "        True       0.95      0.39      0.56       140\n",
            "\n",
            "    accuracy                           0.81       471\n",
            "   macro avg       0.87      0.69      0.72       471\n",
            "weighted avg       0.84      0.81      0.78       471\n",
            "\n"
          ]
        }
      ],
      "source": [
        "print(classification_report(train_y, sigmoid(train_logits[:, 0]) > 0.5))"
      ]
    },
    {
      "cell_type": "code",
      "execution_count": 29,
      "metadata": {
        "colab": {
          "base_uri": "https://localhost:8080/"
        },
        "id": "lF6di69GGL-E",
        "outputId": "ed284011-34bb-4873-edb1-1ff274524505"
      },
      "outputs": [
        {
          "name": "stdout",
          "output_type": "stream",
          "text": [
            "              precision    recall  f1-score   support\n",
            "\n",
            "           0       0.66      1.00      0.80       103\n",
            "           1       1.00      0.05      0.10        55\n",
            "\n",
            "    accuracy                           0.67       158\n",
            "   macro avg       0.83      0.53      0.45       158\n",
            "weighted avg       0.78      0.67      0.56       158\n",
            "\n"
          ]
        }
      ],
      "source": [
        "distilled_model = make_pipeline(CountVectorizer(ngram_range=(1,3)), LinearRegression()).fit(X_train, train_logits)\n",
        "\n",
        "# predict probabilities\n",
        "#lr_probs = distilled_model.predict_proba(test_texts)\n",
        "# keep probabilities for the positive outcome only\n",
        "#lr_probs = lr_probs[:, 1]\n",
        "\n",
        "# predict class values\n",
        "distilled_predicted_logits = distilled_model.predict(X_test)\n",
        "#lr_precision, lr_recall, _ = precision_recall_curve(test_y, lr_probs)\n",
        "#lr_f1, lr_auc = f1_score(test_y, distilled_predicted_logits), auc(lr_recall, lr_precision)\n",
        "\n",
        "print(classification_report(y_test, sigmoid(distilled_predicted_logits[:, 0]) > 0.5))"
      ]
    },
    {
      "cell_type": "code",
      "execution_count": 30,
      "metadata": {
        "colab": {
          "base_uri": "https://localhost:8080/",
          "height": 521
        },
        "id": "N-PoU3HHGL-E",
        "outputId": "b1c5fbde-cc6c-491e-fa17-ae458bcb56d6"
      },
      "outputs": [
        {
          "data": {
            "text/plain": [
              "(array([143., 139.,  68.,  29.,  11.,  12.,  11.,  19.,  26.,  13.]),\n",
              " array([-2.3441079 , -2.007124  , -1.6701401 , -1.3331562 , -0.99617237,\n",
              "        -0.6591885 , -0.32220465,  0.01477923,  0.3517631 ,  0.688747  ,\n",
              "         1.0257308 ], dtype=float32),\n",
              " <BarContainer object of 10 artists>)"
            ]
          },
          "execution_count": 30,
          "metadata": {},
          "output_type": "execute_result"
        },
        {
          "data": {
            "image/png": "[encoded data removed]",
            "text/plain": [
              "<Figure size 432x288 with 1 Axes>"
            ]
          },
          "metadata": {
            "needs_background": "light"
          },
          "output_type": "display_data"
        }
      ],
      "source": [
        "plt.hist(train_logits)"
      ]
    },
    {
      "cell_type": "markdown",
      "metadata": {
        "id": "Qo1m4fiIGL-E"
      },
      "source": [
        "# label new data using the trained model"
      ]
    },
    {
      "cell_type": "code",
      "execution_count": 32,
      "metadata": {
        "colab": {
          "base_uri": "https://localhost:8080/"
        },
        "id": "1EDhk2DkGL-E",
        "outputId": "c136da02-d65e-4609-c869-967507e8a12f"
      },
      "outputs": [
        {
          "data": {
            "text/plain": [
              "['The Customer Service Associate will be based in Seattle, WA.',\n",
              " 'The right candidate will be an integral part of our talented team, supporting our continued growth.Responsibilities include, but are not limited to:Prepare materials for mailing including: applying postage, preparing items for shipment or collection, distributing items as needed, ensuring items are properly labeled and documenting data according to management guidelines.Perform start-up and operations of postage equipment.Ensure that all mail and packages are properly labeled for mailing, with correct postage utilizing automatic postage meter machine.Sort, deliver and pick-up mail and packages utilizing mail cart according to established time frames and service standards.Assist with loading and unloading of deliveries as needed.Maintain shipping and receiving area as required.Sort and process inbound intercompany mail.Scan and input inbound accountable boxes and packages including certified, registered, return receipt, Federal Express and UPS for delivery to customers.Verify and correct mail using available tools.',\n",
              " 'Ability to lift heavy boxes and operate electronic dolly if required at site.Maintain all logs and reporting documentation as required.Keep manager advised of associate or employee moves or requests, and other related matters.Coordinate special messenger services, air freight, etc.Assist with security and monthly measurement reports as required.Cross-Train in other service areas.Perform other tasks as assigned.',\n",
              " 'To strengthen its new executive team, Axonix is seeking a Global Marketing Manager to drive all of the company’s branding and lead generation strategies globally.As Axonix is a new company, the Marketing Manager will have the opportunity to define, create and execute the strategies that will establish Axonix across our target audiences of mobile publishers, app developers, demand partners, journalists &amp; bloggers, and potential employees.',\n",
              " \"We're seeking a hands-on executer, who can span both planning and delivery, working with our incumbent agencies whilst also owning in-house projects.\"]"
            ]
          },
          "execution_count": 32,
          "metadata": {},
          "output_type": "execute_result"
        }
      ],
      "source": [
        "#label unlabeled data\n",
        "unlabeled_texts = []\n",
        "with open('unlabeled.txt') as f:\n",
        "    for line in f:\n",
        "        unlabeled_texts.append(line.strip())\n",
        "\n",
        "unlabeled_texts[:5]"
      ]
    },
    {
      "cell_type": "code",
      "execution_count": 33,
      "metadata": {
        "id": "m5pToeS1GL-F"
      },
      "outputs": [],
      "source": [
        "# use distilled model to label unlabeled text data\n",
        "unlabeled_logits = distilled_model.predict(unlabeled_texts)\n",
        "prediction = tf.round(tf.nn.sigmoid(unlabeled_logits)) \n",
        "#predicted_label = sigmoid(distilled_predicted_logits[:, 0]) > 0.5"
      ]
    },
    {
      "cell_type": "code",
      "execution_count": 34,
      "metadata": {
        "colab": {
          "base_uri": "https://localhost:8080/",
          "height": 206
        },
        "id": "z2sBc87YGL-F",
        "outputId": "f4edeba5-c8d7-4c9b-a131-9e18b0539b41"
      },
      "outputs": [
        {
          "data": {
            "text/html": [
              "<div>\n",
              "<style scoped>\n",
              "    .dataframe tbody tr th:only-of-type {\n",
              "        vertical-align: middle;\n",
              "    }\n",
              "\n",
              "    .dataframe tbody tr th {\n",
              "        vertical-align: top;\n",
              "    }\n",
              "\n",
              "    .dataframe thead th {\n",
              "        text-align: right;\n",
              "    }\n",
              "</style>\n",
              "<table border=\"1\" class=\"dataframe\">\n",
              "  <thead>\n",
              "    <tr style=\"text-align: right;\">\n",
              "      <th></th>\n",
              "      <th>text</th>\n",
              "      <th>label</th>\n",
              "    </tr>\n",
              "  </thead>\n",
              "  <tbody>\n",
              "    <tr>\n",
              "      <th>0</th>\n",
              "      <td>The Customer Service Associate will be based i...</td>\n",
              "      <td>0.0</td>\n",
              "    </tr>\n",
              "    <tr>\n",
              "      <th>1</th>\n",
              "      <td>The right candidate will be an integral part o...</td>\n",
              "      <td>0.0</td>\n",
              "    </tr>\n",
              "    <tr>\n",
              "      <th>2</th>\n",
              "      <td>Ability to lift heavy boxes and operate electr...</td>\n",
              "      <td>0.0</td>\n",
              "    </tr>\n",
              "    <tr>\n",
              "      <th>3</th>\n",
              "      <td>To strengthen its new executive team, Axonix i...</td>\n",
              "      <td>0.0</td>\n",
              "    </tr>\n",
              "    <tr>\n",
              "      <th>4</th>\n",
              "      <td>We're seeking a hands-on executer, who can spa...</td>\n",
              "      <td>0.0</td>\n",
              "    </tr>\n",
              "  </tbody>\n",
              "</table>\n",
              "</div>"
            ],
            "text/plain": [
              "                                                text label\n",
              "0  The Customer Service Associate will be based i...   0.0\n",
              "1  The right candidate will be an integral part o...   0.0\n",
              "2  Ability to lift heavy boxes and operate electr...   0.0\n",
              "3  To strengthen its new executive team, Axonix i...   0.0\n",
              "4  We're seeking a hands-on executer, who can spa...   0.0"
            ]
          },
          "execution_count": 34,
          "metadata": {},
          "output_type": "execute_result"
        }
      ],
      "source": [
        "predicted_label = prediction.numpy().flatten()\n",
        "unlabeled_text_labeles = pd.DataFrame([unlabeled_texts, predicted_label]).transpose()\n",
        "unlabeled_text_labeles.columns = ['text', 'label']\n",
        "unlabeled_text_labeles.head()\n"
      ]
    },
    {
      "cell_type": "code",
      "execution_count": 35,
      "metadata": {
        "colab": {
          "base_uri": "https://localhost:8080/"
        },
        "id": "jkqY9LOGGL-F",
        "outputId": "e27adbc7-1e28-4369-b3ec-c642fdf823c7"
      },
      "outputs": [
        {
          "name": "stdout",
          "output_type": "stream",
          "text": [
            "1 : The desired candidate will be energetic, comfortable with technology (obviously), and enjoy working in a fast-pace, dynamic environment.\n",
            "2 : Tel Tech Networks Inc.is currentlyrecruiting Fiber Technicians with 5+ years experience installinglow voltage systems who want to be a part of a dynamic team in a fast paced environment.\n",
            "3 : Willingness to learn new server technologies like Varnish / lighttpd /Self-reliant, creative problem solver, outcome orientatedAdaptive learner, someone who’s motivated by the challenge of getting things done, team playerStrong communication skills to be able to converse with the business\n"
          ]
        }
      ],
      "source": [
        "predicted_discriminitory_sentences = unlabeled_text_labeles.loc[unlabeled_text_labeles['label']==True]['text']\n",
        "n = 1\n",
        "for i in predicted_discriminitory_sentences:\n",
        "    print(n,':',i)\n",
        "    n+=1"
      ]
    },
    {
      "cell_type": "code",
      "execution_count": 36,
      "metadata": {
        "colab": {
          "base_uri": "https://localhost:8080/",
          "height": 529
        },
        "id": "Q7ZRCwRpGL-F",
        "outputId": "a5fff540-accc-40ce-9535-e5c9e20e052e"
      },
      "outputs": [
        {
          "name": "stdout",
          "output_type": "stream",
          "text": [
            "0.0    598\n",
            "1.0      3\n",
            "Name: label, dtype: int64\n"
          ]
        },
        {
          "data": {
            "text/plain": [
              "Text(0.5, 1.0, 'Distribution of Labels')"
            ]
          },
          "execution_count": 36,
          "metadata": {},
          "output_type": "execute_result"
        },
        {
          "data": {
            "image/png": "[encoded data removed]",
            "text/plain": [
              "<Figure size 432x288 with 1 Axes>"
            ]
          },
          "metadata": {
            "needs_background": "light"
          },
          "output_type": "display_data"
        }
      ],
      "source": [
        "from matplotlib import pyplot as plt\n",
        "print(unlabeled_text_labeles['label'].value_counts())\n",
        "unlabeled_text_labeles['label'].value_counts().plot.bar()\n",
        "#plt.yscale('log');\n",
        "plt.title('Distribution of Labels')"
      ]
    },
    {
      "attachments": {},
      "cell_type": "markdown",
      "metadata": {
        "id": "jVfiJBo7GL-F"
      },
      "source": [
        "# Find words in the word corpus"
      ]
    },
    {
      "cell_type": "code",
      "execution_count": null,
      "metadata": {
        "id": "UEwC-BmKGL-F"
      },
      "outputs": [],
      "source": [
        "from reversestem import unstem"
      ]
    },
    {
      "cell_type": "code",
      "execution_count": null,
      "metadata": {
        "id": "ha8Fxl89GL-F",
        "outputId": "d13ce18c-7efb-4796-bed5-d190f8534feb"
      },
      "outputs": [
        {
          "data": {
            "text/plain": [
              "['vibrant',\n",
              " 'active',\n",
              " 'energetic',\n",
              " 'witty',\n",
              " 'high-performer',\n",
              " 'high performer',\n",
              " 'ambitious',\n",
              " 'fun',\n",
              " 'dynamic',\n",
              " 'adaptable',\n",
              " 'creative',\n",
              " 'sharp',\n",
              " 'tech-savvy',\n",
              " 'tech savvy',\n",
              " 'quick-learner',\n",
              " 'quick learner',\n",
              " 'adaptable',\n",
              " 'flexible',\n",
              " 'creative',\n",
              " 'innovative',\n",
              " 'fast learner',\n",
              " 'fast-learner',\n",
              " 'recent college graduate',\n",
              " 'youthful',\n",
              " 'GPA']"
            ]
          },
          "execution_count": 175,
          "metadata": {},
          "output_type": "execute_result"
        }
      ],
      "source": [
        "word_corpus = []\n",
        "with open('word_corpus.txt') as f:\n",
        "    for line in f:\n",
        "        word_corpus.append(line.strip())\n",
        "\n",
        "word_corpus"
      ]
    },
    {
      "cell_type": "code",
      "execution_count": null,
      "metadata": {
        "id": "NsBWHSQdGL-F",
        "outputId": "6973d0ca-ac0d-4944-d0fa-a26fc490291e"
      },
      "outputs": [
        {
          "name": "stdout",
          "output_type": "stream",
          "text": [
            "fun\n",
            "adaptable\n",
            "creative\n",
            "sharp\n",
            "adaptable\n",
            "creative\n",
            "innovative\n"
          ]
        }
      ],
      "source": [
        "ageist_word_corpus_unstem = []\n",
        "for i in word_corpus:\n",
        "    try:\n",
        "        unstemmed_words = unstem(i, flatten=True)\n",
        "        if unstemmed_words == None:\n",
        "            ageist_word_corpus_unstem.append(i)\n",
        "        else:\n",
        "            ageist_word_corpus_unstem.extend(unstemmed_words)\n",
        "    except:\n",
        "        print(i)\n",
        "        ageist_word_corpus_unstem.append(i)\n"
      ]
    },
    {
      "cell_type": "code",
      "execution_count": null,
      "metadata": {
        "id": "dKQglQ8LGL-F",
        "outputId": "5af4167f-f818-4689-9724-5b9dc4919950"
      },
      "outputs": [
        {
          "name": "stdout",
          "output_type": "stream",
          "text": [
            "Join a fast growing technology education movement!Apps for Good (#URL_937118d268463f038aabd860063eb978f7ad6c0a78ed8e595e39bfa1de380e90#) is an award-winning technology education movement where young people in schools learn to create apps that solve problems they care about and change their world.\n"
          ]
        }
      ],
      "source": [
        "text = predicted_discriminitory_sentences.iloc[0]\n",
        "print(text)\n",
        "for word in word_corpus:\n",
        "    if text.lower().count(word) != 0:       \n",
        "        print(word, text.lower().count(word))"
      ]
    }
  ],
  "metadata": {
    "accelerator": "GPU",
    "colab": {
      "provenance": []
    },
    "gpuClass": "standard",
    "kernelspec": {
      "display_name": "aml",
      "language": "python",
      "name": "aml"
    },
    "language_info": {
      "codemirror_mode": {
        "name": "ipython",
        "version": 3
      },
      "file_extension": ".py",
      "mimetype": "text/x-python",
      "name": "python",
      "nbconvert_exporter": "python",
      "pygments_lexer": "ipython3",
      "version": "3.10.4"
    },
    "orig_nbformat": 4
  },
  "nbformat": 4,
  "nbformat_minor": 0
}
